{
 "cells": [
  {
   "cell_type": "code",
   "execution_count": 1,
   "id": "649e4135",
   "metadata": {},
   "outputs": [],
   "source": [
    "import numpy as np\n",
    "import pandas as pd\n",
    "import matplotlib.pyplot as plt\n",
    "import seaborn as sns"
   ]
  },
  {
   "cell_type": "code",
   "execution_count": 2,
   "id": "4746eac7",
   "metadata": {},
   "outputs": [],
   "source": [
    "df = pd.read_excel('../data/Bhaav-Dataset.xlsx')"
   ]
  },
  {
   "cell_type": "code",
   "execution_count": 3,
   "id": "c4abe17b",
   "metadata": {},
   "outputs": [
    {
     "name": "stdout",
     "output_type": "stream",
     "text": [
      "<class 'pandas.core.frame.DataFrame'>\n",
      "RangeIndex: 20304 entries, 0 to 20303\n",
      "Data columns (total 2 columns):\n",
      " #   Column      Non-Null Count  Dtype \n",
      "---  ------      --------------  ----- \n",
      " 0   Sentences   20304 non-null  object\n",
      " 1   Annotation  20304 non-null  int64 \n",
      "dtypes: int64(1), object(1)\n",
      "memory usage: 317.4+ KB\n"
     ]
    }
   ],
   "source": [
    "df.info()"
   ]
  },
  {
   "cell_type": "code",
   "execution_count": 4,
   "id": "761fa582",
   "metadata": {},
   "outputs": [
    {
     "data": {
      "text/html": [
       "<div>\n",
       "<style scoped>\n",
       "    .dataframe tbody tr th:only-of-type {\n",
       "        vertical-align: middle;\n",
       "    }\n",
       "\n",
       "    .dataframe tbody tr th {\n",
       "        vertical-align: top;\n",
       "    }\n",
       "\n",
       "    .dataframe thead th {\n",
       "        text-align: right;\n",
       "    }\n",
       "</style>\n",
       "<table border=\"1\" class=\"dataframe\">\n",
       "  <thead>\n",
       "    <tr style=\"text-align: right;\">\n",
       "      <th></th>\n",
       "      <th>Sentences</th>\n",
       "      <th>Annotation</th>\n",
       "    </tr>\n",
       "  </thead>\n",
       "  <tbody>\n",
       "    <tr>\n",
       "      <th>0</th>\n",
       "      <td>रमजान के पूरे तीस रोजों के बाद ईद आयी है</td>\n",
       "      <td>1</td>\n",
       "    </tr>\n",
       "    <tr>\n",
       "      <th>1</th>\n",
       "      <td>कितना मनोहर, कितना सुहावना प्रभाव है</td>\n",
       "      <td>1</td>\n",
       "    </tr>\n",
       "    <tr>\n",
       "      <th>2</th>\n",
       "      <td>वृक्षों पर अजीब हरियाली है, खेतों में कुछ अजीब...</td>\n",
       "      <td>1</td>\n",
       "    </tr>\n",
       "    <tr>\n",
       "      <th>3</th>\n",
       "      <td>आज का सूर्य देखो, कितना प्यारा, कितना शीतल है,...</td>\n",
       "      <td>1</td>\n",
       "    </tr>\n",
       "    <tr>\n",
       "      <th>4</th>\n",
       "      <td>गाँव में कितनी हलचल है</td>\n",
       "      <td>1</td>\n",
       "    </tr>\n",
       "  </tbody>\n",
       "</table>\n",
       "</div>"
      ],
      "text/plain": [
       "                                           Sentences  Annotation\n",
       "0           रमजान के पूरे तीस रोजों के बाद ईद आयी है           1\n",
       "1               कितना मनोहर, कितना सुहावना प्रभाव है           1\n",
       "2  वृक्षों पर अजीब हरियाली है, खेतों में कुछ अजीब...           1\n",
       "3  आज का सूर्य देखो, कितना प्यारा, कितना शीतल है,...           1\n",
       "4                             गाँव में कितनी हलचल है           1"
      ]
     },
     "execution_count": 4,
     "metadata": {},
     "output_type": "execute_result"
    }
   ],
   "source": [
    "df.head()"
   ]
  },
  {
   "cell_type": "code",
   "execution_count": 5,
   "id": "773ea742",
   "metadata": {},
   "outputs": [
    {
     "data": {
      "text/plain": [
       "5"
      ]
     },
     "execution_count": 5,
     "metadata": {},
     "output_type": "execute_result"
    }
   ],
   "source": [
    "df['Annotation'].nunique()"
   ]
  },
  {
   "cell_type": "code",
   "execution_count": 6,
   "id": "0998bbbe",
   "metadata": {},
   "outputs": [
    {
     "data": {
      "text/plain": [
       "Annotation\n",
       "4    11697\n",
       "2     3168\n",
       "1     2463\n",
       "3     1512\n",
       "0     1464\n",
       "Name: count, dtype: int64"
      ]
     },
     "execution_count": 6,
     "metadata": {},
     "output_type": "execute_result"
    }
   ],
   "source": [
    "df['Annotation'].value_counts()"
   ]
  },
  {
   "cell_type": "code",
   "execution_count": 7,
   "id": "43aa818c",
   "metadata": {},
   "outputs": [
    {
     "data": {
      "text/plain": [
       "Sentences     0\n",
       "Annotation    0\n",
       "dtype: int64"
      ]
     },
     "execution_count": 7,
     "metadata": {},
     "output_type": "execute_result"
    }
   ],
   "source": [
    "df.isnull().sum()"
   ]
  },
  {
   "cell_type": "code",
   "execution_count": 8,
   "id": "016d2da3",
   "metadata": {},
   "outputs": [],
   "source": [
    "df['annot'] = df['Annotation'].map({0: 'Anger', 1: 'Joy', 2: 'Sad', 3: 'Suspense', 4: 'Neutral'})"
   ]
  },
  {
   "cell_type": "code",
   "execution_count": 9,
   "id": "9502c935",
   "metadata": {},
   "outputs": [
    {
     "data": {
      "text/html": [
       "<div>\n",
       "<style scoped>\n",
       "    .dataframe tbody tr th:only-of-type {\n",
       "        vertical-align: middle;\n",
       "    }\n",
       "\n",
       "    .dataframe tbody tr th {\n",
       "        vertical-align: top;\n",
       "    }\n",
       "\n",
       "    .dataframe thead th {\n",
       "        text-align: right;\n",
       "    }\n",
       "</style>\n",
       "<table border=\"1\" class=\"dataframe\">\n",
       "  <thead>\n",
       "    <tr style=\"text-align: right;\">\n",
       "      <th></th>\n",
       "      <th>Sentences</th>\n",
       "      <th>Annotation</th>\n",
       "      <th>annot</th>\n",
       "    </tr>\n",
       "  </thead>\n",
       "  <tbody>\n",
       "    <tr>\n",
       "      <th>9553</th>\n",
       "      <td>काफी देर तक वह इसी तरह खड़ा रहा</td>\n",
       "      <td>4</td>\n",
       "      <td>Neutral</td>\n",
       "    </tr>\n",
       "    <tr>\n",
       "      <th>1526</th>\n",
       "      <td>और शीघ्रता से दरवाजे की ओर बढ़ा</td>\n",
       "      <td>2</td>\n",
       "      <td>Sad</td>\n",
       "    </tr>\n",
       "    <tr>\n",
       "      <th>14405</th>\n",
       "      <td>उसके परिवार की आर्थिक स्थिति ठीक नहीं थी</td>\n",
       "      <td>4</td>\n",
       "      <td>Neutral</td>\n",
       "    </tr>\n",
       "    <tr>\n",
       "      <th>1025</th>\n",
       "      <td>फिर उसे कोई जीत नहीं सकता</td>\n",
       "      <td>4</td>\n",
       "      <td>Neutral</td>\n",
       "    </tr>\n",
       "    <tr>\n",
       "      <th>18802</th>\n",
       "      <td>मैं तो एक जन्मपत्री बना रहा था</td>\n",
       "      <td>4</td>\n",
       "      <td>Neutral</td>\n",
       "    </tr>\n",
       "    <tr>\n",
       "      <th>11677</th>\n",
       "      <td>लेकिन क्या तुम में इतनी शक्ति भी है कि इसे अपन...</td>\n",
       "      <td>4</td>\n",
       "      <td>Neutral</td>\n",
       "    </tr>\n",
       "    <tr>\n",
       "      <th>340</th>\n",
       "      <td>एक चिमटा जमा दूँ, तो तुम लोगों के सारे खिलौनों...</td>\n",
       "      <td>1</td>\n",
       "      <td>Joy</td>\n",
       "    </tr>\n",
       "    <tr>\n",
       "      <th>11072</th>\n",
       "      <td>मैं ने दलाल के साथ जा कर उसे हार दिखाया</td>\n",
       "      <td>4</td>\n",
       "      <td>Neutral</td>\n",
       "    </tr>\n",
       "    <tr>\n",
       "      <th>16810</th>\n",
       "      <td>टुन्ना की मां उन पौधों को नियमित रूप से पानी द...</td>\n",
       "      <td>4</td>\n",
       "      <td>Neutral</td>\n",
       "    </tr>\n",
       "    <tr>\n",
       "      <th>183</th>\n",
       "      <td>कोई इक्के-ताँगे पर सवार, कोई मोटर पर, सभी इत्र...</td>\n",
       "      <td>1</td>\n",
       "      <td>Joy</td>\n",
       "    </tr>\n",
       "  </tbody>\n",
       "</table>\n",
       "</div>"
      ],
      "text/plain": [
       "                                               Sentences  Annotation    annot\n",
       "9553                     काफी देर तक वह इसी तरह खड़ा रहा           4  Neutral\n",
       "1526                     और शीघ्रता से दरवाजे की ओर बढ़ा           2      Sad\n",
       "14405           उसके परिवार की आर्थिक स्थिति ठीक नहीं थी           4  Neutral\n",
       "1025                           फिर उसे कोई जीत नहीं सकता           4  Neutral\n",
       "18802                     मैं तो एक जन्मपत्री बना रहा था           4  Neutral\n",
       "11677  लेकिन क्या तुम में इतनी शक्ति भी है कि इसे अपन...           4  Neutral\n",
       "340    एक चिमटा जमा दूँ, तो तुम लोगों के सारे खिलौनों...           1      Joy\n",
       "11072            मैं ने दलाल के साथ जा कर उसे हार दिखाया           4  Neutral\n",
       "16810  टुन्ना की मां उन पौधों को नियमित रूप से पानी द...           4  Neutral\n",
       "183    कोई इक्के-ताँगे पर सवार, कोई मोटर पर, सभी इत्र...           1      Joy"
      ]
     },
     "execution_count": 9,
     "metadata": {},
     "output_type": "execute_result"
    }
   ],
   "source": [
    "df.sample(10)"
   ]
  },
  {
   "cell_type": "code",
   "execution_count": 10,
   "id": "7f6ef3c2",
   "metadata": {},
   "outputs": [],
   "source": [
    "df.to_csv('bhaav-labeled.csv', index=False)"
   ]
  },
  {
   "cell_type": "code",
   "execution_count": 11,
   "id": "7bc5e747",
   "metadata": {},
   "outputs": [
    {
     "data": {
      "image/png": "[encoded data removed]",
      "text/plain": [
       "<Figure size 640x480 with 1 Axes>"
      ]
     },
     "metadata": {},
     "output_type": "display_data"
    }
   ],
   "source": [
    "sns.countplot(x='annot', data=df);"
   ]
  },
  {
   "cell_type": "code",
   "execution_count": 12,
   "id": "38c597a1",
   "metadata": {},
   "outputs": [
    {
     "data": {
      "text/plain": [
       "20304"
      ]
     },
     "execution_count": 12,
     "metadata": {},
     "output_type": "execute_result"
    }
   ],
   "source": [
    "len(df)"
   ]
  },
  {
   "cell_type": "code",
   "execution_count": 13,
   "id": "17d7d890",
   "metadata": {},
   "outputs": [],
   "source": [
    "df = df[df['Annotation'] != 3]"
   ]
  },
  {
   "cell_type": "code",
   "execution_count": 14,
   "id": "1ad3db6d",
   "metadata": {},
   "outputs": [
    {
     "data": {
      "text/plain": [
       "18792"
      ]
     },
     "execution_count": 14,
     "metadata": {},
     "output_type": "execute_result"
    }
   ],
   "source": [
    "len(df)"
   ]
  },
  {
   "cell_type": "code",
   "execution_count": 15,
   "id": "b2a0e40a",
   "metadata": {},
   "outputs": [],
   "source": [
    "def create_labels(annotation):\n",
    "    if annotation in [0, 2]:\n",
    "        return -1\n",
    "    if annotation == 1:\n",
    "        return 1\n",
    "    if annotation == 4:\n",
    "        return 0"
   ]
  },
  {
   "cell_type": "code",
   "execution_count": 16,
   "id": "c21dd6c1",
   "metadata": {},
   "outputs": [],
   "source": [
    "df['label'] = df['Annotation'].apply(create_labels)"
   ]
  },
  {
   "cell_type": "code",
   "execution_count": 17,
   "id": "684a79b2",
   "metadata": {},
   "outputs": [
    {
     "data": {
      "text/plain": [
       "array([ 1,  0, -1])"
      ]
     },
     "execution_count": 17,
     "metadata": {},
     "output_type": "execute_result"
    }
   ],
   "source": [
    "df['label'].unique()"
   ]
  },
  {
   "cell_type": "code",
   "execution_count": 18,
   "id": "462e539f",
   "metadata": {},
   "outputs": [
    {
     "data": {
      "text/plain": [
       "label\n",
       " 0    11697\n",
       "-1     4632\n",
       " 1     2463\n",
       "Name: count, dtype: int64"
      ]
     },
     "execution_count": 18,
     "metadata": {},
     "output_type": "execute_result"
    }
   ],
   "source": [
    "df['label'].value_counts()"
   ]
  },
  {
   "cell_type": "code",
   "execution_count": 19,
   "id": "1954aad2",
   "metadata": {},
   "outputs": [],
   "source": [
    "test_df = df.sample(frac=0.005)"
   ]
  },
  {
   "cell_type": "code",
   "execution_count": 20,
   "id": "c1dd66b2",
   "metadata": {},
   "outputs": [],
   "source": [
    "x = test_df['Sentences'].to_list()"
   ]
  },
  {
   "cell_type": "code",
   "execution_count": 21,
   "id": "786b9861",
   "metadata": {},
   "outputs": [
    {
     "data": {
      "text/plain": [
       "94"
      ]
     },
     "execution_count": 21,
     "metadata": {},
     "output_type": "execute_result"
    }
   ],
   "source": [
    "len(x)"
   ]
  },
  {
   "cell_type": "code",
   "execution_count": 22,
   "id": "4f3c55b8",
   "metadata": {},
   "outputs": [],
   "source": [
    "from transformers import pipeline\n",
    "from deep_translator import GoogleTranslator"
   ]
  },
  {
   "cell_type": "code",
   "execution_count": 23,
   "id": "5c58c0ae",
   "metadata": {},
   "outputs": [],
   "source": [
    "classifier = pipeline('sentiment-analysis', model='../distilBert/', framework='pt')"
   ]
  },
  {
   "cell_type": "code",
   "execution_count": 24,
   "id": "61b1a699",
   "metadata": {},
   "outputs": [],
   "source": [
    "def getLabel(text: str) -> dict:\n",
    "    text = GoogleTranslator(source='auto', target='en').translate(text)\n",
    "    result = classifier(text)[0]\n",
    "    \n",
    "    if result['score'] < 0.75:\n",
    "        result['label'] = 'NEUTRAL'\n",
    "    \n",
    "    return result"
   ]
  },
  {
   "cell_type": "code",
   "execution_count": 25,
   "id": "a26d2ea0",
   "metadata": {},
   "outputs": [
    {
     "data": {
      "text/plain": [
       "{'label': 'NEGATIVE', 'score': 0.8530972003936768}"
      ]
     },
     "execution_count": 25,
     "metadata": {},
     "output_type": "execute_result"
    }
   ],
   "source": [
    "getLabel('वह तटस्थ रहा जबकि उसके भाइयों ने बहस की')"
   ]
  },
  {
   "cell_type": "code",
   "execution_count": 26,
   "id": "bab5fc65",
   "metadata": {},
   "outputs": [
    {
     "data": {
      "text/plain": [
       "{'label': 'POSITIVE', 'score': 0.9995228052139282}"
      ]
     },
     "execution_count": 26,
     "metadata": {},
     "output_type": "execute_result"
    }
   ],
   "source": [
    "getLabel('किसी ने एक रोजा रखा है, वह भी दोपहर तक, किसी ने वह भी नहीं, लेकिन ईदगाह जाने की खुशी उनके हिस्से की चीज है')"
   ]
  },
  {
   "cell_type": "code",
   "execution_count": 27,
   "id": "bfbf14e8",
   "metadata": {},
   "outputs": [
    {
     "data": {
      "text/plain": [
       "{'label': 'POSITIVE', 'score': 0.9436970353126526}"
      ]
     },
     "execution_count": 27,
     "metadata": {},
     "output_type": "execute_result"
    }
   ],
   "source": [
    "getLabel('उनकी कल्पना तो राई का पर्वत बना लेती है')"
   ]
  },
  {
   "cell_type": "code",
   "execution_count": 28,
   "id": "9e6d5a32",
   "metadata": {},
   "outputs": [],
   "source": [
    "y = [getLabel(i)['label'] for i in x]"
   ]
  },
  {
   "cell_type": "code",
   "execution_count": 29,
   "id": "568f2c5a",
   "metadata": {},
   "outputs": [],
   "source": [
    "test_df['pred'] = y"
   ]
  },
  {
   "cell_type": "code",
   "execution_count": 30,
   "id": "af1d96f2",
   "metadata": {},
   "outputs": [
    {
     "data": {
      "text/html": [
       "<div>\n",
       "<style scoped>\n",
       "    .dataframe tbody tr th:only-of-type {\n",
       "        vertical-align: middle;\n",
       "    }\n",
       "\n",
       "    .dataframe tbody tr th {\n",
       "        vertical-align: top;\n",
       "    }\n",
       "\n",
       "    .dataframe thead th {\n",
       "        text-align: right;\n",
       "    }\n",
       "</style>\n",
       "<table border=\"1\" class=\"dataframe\">\n",
       "  <thead>\n",
       "    <tr style=\"text-align: right;\">\n",
       "      <th></th>\n",
       "      <th>Sentences</th>\n",
       "      <th>Annotation</th>\n",
       "      <th>annot</th>\n",
       "      <th>label</th>\n",
       "      <th>pred</th>\n",
       "    </tr>\n",
       "  </thead>\n",
       "  <tbody>\n",
       "    <tr>\n",
       "      <th>19069</th>\n",
       "      <td>हाय ज्ञानू</td>\n",
       "      <td>2</td>\n",
       "      <td>Sad</td>\n",
       "      <td>-1</td>\n",
       "      <td>POSITIVE</td>\n",
       "    </tr>\n",
       "    <tr>\n",
       "      <th>11379</th>\n",
       "      <td>उसमें से एक बाँसुरी निकाल कर अमीना ने साफी को दी</td>\n",
       "      <td>4</td>\n",
       "      <td>Neutral</td>\n",
       "      <td>0</td>\n",
       "      <td>POSITIVE</td>\n",
       "    </tr>\n",
       "    <tr>\n",
       "      <th>4811</th>\n",
       "      <td>नाश्ते में आलू गोभी के परांठे और ठंडी लस्सी का...</td>\n",
       "      <td>1</td>\n",
       "      <td>Joy</td>\n",
       "      <td>1</td>\n",
       "      <td>POSITIVE</td>\n",
       "    </tr>\n",
       "    <tr>\n",
       "      <th>8847</th>\n",
       "      <td>जादूगर बोला, अगर मैं इसे हाथ लगा पाता तो खुद ह...</td>\n",
       "      <td>0</td>\n",
       "      <td>Anger</td>\n",
       "      <td>-1</td>\n",
       "      <td>NEGATIVE</td>\n",
       "    </tr>\n",
       "    <tr>\n",
       "      <th>17072</th>\n",
       "      <td>हवा के सहारे उड़कर यह ऊंचाई तक पहुंच गईं</td>\n",
       "      <td>4</td>\n",
       "      <td>Neutral</td>\n",
       "      <td>0</td>\n",
       "      <td>POSITIVE</td>\n",
       "    </tr>\n",
       "    <tr>\n",
       "      <th>2629</th>\n",
       "      <td>अगर वह साध्य हो जाए, तो आदर्श ही क्यों रहे</td>\n",
       "      <td>4</td>\n",
       "      <td>Neutral</td>\n",
       "      <td>0</td>\n",
       "      <td>NEUTRAL</td>\n",
       "    </tr>\n",
       "    <tr>\n",
       "      <th>20278</th>\n",
       "      <td>कैसे उसने पहली बार मुझे पेड़ के तने से सटा कर च...</td>\n",
       "      <td>1</td>\n",
       "      <td>Joy</td>\n",
       "      <td>1</td>\n",
       "      <td>POSITIVE</td>\n",
       "    </tr>\n",
       "    <tr>\n",
       "      <th>10874</th>\n",
       "      <td>वह परदा ही तो घर-भर की औरतों के शरीर का वस्त्र था</td>\n",
       "      <td>2</td>\n",
       "      <td>Sad</td>\n",
       "      <td>-1</td>\n",
       "      <td>NEGATIVE</td>\n",
       "    </tr>\n",
       "    <tr>\n",
       "      <th>19490</th>\n",
       "      <td>मगर मुझे पान लेने की कहाँ सुध थी</td>\n",
       "      <td>4</td>\n",
       "      <td>Neutral</td>\n",
       "      <td>0</td>\n",
       "      <td>NEGATIVE</td>\n",
       "    </tr>\n",
       "    <tr>\n",
       "      <th>4071</th>\n",
       "      <td>उसे देखते ही बोलीं,'तुम्हारा लड़का बड़ा उजड्ड है</td>\n",
       "      <td>0</td>\n",
       "      <td>Anger</td>\n",
       "      <td>-1</td>\n",
       "      <td>NEUTRAL</td>\n",
       "    </tr>\n",
       "    <tr>\n",
       "      <th>8977</th>\n",
       "      <td>खैर, इन बातों पर अधिक ध्यान देना उस ने जरूरी न...</td>\n",
       "      <td>4</td>\n",
       "      <td>Neutral</td>\n",
       "      <td>0</td>\n",
       "      <td>NEGATIVE</td>\n",
       "    </tr>\n",
       "    <tr>\n",
       "      <th>18508</th>\n",
       "      <td>एक दिन भोजन पर महाराज का रसोइया शेख व्यापारी क...</td>\n",
       "      <td>4</td>\n",
       "      <td>Neutral</td>\n",
       "      <td>0</td>\n",
       "      <td>POSITIVE</td>\n",
       "    </tr>\n",
       "    <tr>\n",
       "      <th>6364</th>\n",
       "      <td>आखिर सुनहरे तोते के साथ राजकुमारी का ब्याह हो गया</td>\n",
       "      <td>4</td>\n",
       "      <td>Neutral</td>\n",
       "      <td>0</td>\n",
       "      <td>POSITIVE</td>\n",
       "    </tr>\n",
       "    <tr>\n",
       "      <th>8888</th>\n",
       "      <td>वहाँ जा कर उस ने आवाज दी,</td>\n",
       "      <td>4</td>\n",
       "      <td>Neutral</td>\n",
       "      <td>0</td>\n",
       "      <td>NEUTRAL</td>\n",
       "    </tr>\n",
       "    <tr>\n",
       "      <th>8022</th>\n",
       "      <td>लखनऊ में ऐसे सुअवसर कहाँ थे</td>\n",
       "      <td>4</td>\n",
       "      <td>Neutral</td>\n",
       "      <td>0</td>\n",
       "      <td>NEUTRAL</td>\n",
       "    </tr>\n",
       "    <tr>\n",
       "      <th>19633</th>\n",
       "      <td>कोई अपने दोस्त के मुँह में कुल्हड़ लगाये देता था</td>\n",
       "      <td>1</td>\n",
       "      <td>Joy</td>\n",
       "      <td>1</td>\n",
       "      <td>NEGATIVE</td>\n",
       "    </tr>\n",
       "    <tr>\n",
       "      <th>7129</th>\n",
       "      <td>यह सुन कर बहमन और परवेज तो धन्य-धन्य कर ही उठे...</td>\n",
       "      <td>1</td>\n",
       "      <td>Joy</td>\n",
       "      <td>1</td>\n",
       "      <td>POSITIVE</td>\n",
       "    </tr>\n",
       "    <tr>\n",
       "      <th>9972</th>\n",
       "      <td>भैय्या का ब्लडप्रेशर कोई नया तो नहीं'' बिन्नी ...</td>\n",
       "      <td>4</td>\n",
       "      <td>Neutral</td>\n",
       "      <td>0</td>\n",
       "      <td>NEGATIVE</td>\n",
       "    </tr>\n",
       "    <tr>\n",
       "      <th>14127</th>\n",
       "      <td>पूछने पर शेरू ने बताया कि शहर में तो मुझे बाँध...</td>\n",
       "      <td>2</td>\n",
       "      <td>Sad</td>\n",
       "      <td>-1</td>\n",
       "      <td>NEGATIVE</td>\n",
       "    </tr>\n",
       "    <tr>\n",
       "      <th>18122</th>\n",
       "      <td>उन्होंने सबसे पहले श्री गुरु तेगबहादुर जी का श...</td>\n",
       "      <td>0</td>\n",
       "      <td>Anger</td>\n",
       "      <td>-1</td>\n",
       "      <td>NEGATIVE</td>\n",
       "    </tr>\n",
       "    <tr>\n",
       "      <th>16812</th>\n",
       "      <td>टुन्ना की मां सूखी पत्तियों व सब्जी व फलों के ...</td>\n",
       "      <td>4</td>\n",
       "      <td>Neutral</td>\n",
       "      <td>0</td>\n",
       "      <td>POSITIVE</td>\n",
       "    </tr>\n",
       "    <tr>\n",
       "      <th>18854</th>\n",
       "      <td>उसे हृदय से लगा कर बोले —प्रिय, ऐसी बातों से म...</td>\n",
       "      <td>4</td>\n",
       "      <td>Neutral</td>\n",
       "      <td>0</td>\n",
       "      <td>POSITIVE</td>\n",
       "    </tr>\n",
       "    <tr>\n",
       "      <th>3325</th>\n",
       "      <td>फिर वही मूर्ति खिड़की से झाँक रही थी मूर्ति नह...</td>\n",
       "      <td>4</td>\n",
       "      <td>Neutral</td>\n",
       "      <td>0</td>\n",
       "      <td>NEGATIVE</td>\n",
       "    </tr>\n",
       "    <tr>\n",
       "      <th>13082</th>\n",
       "      <td>उसे अपनी आँखों और उस जिन पर विशवास ही नहीं हो ...</td>\n",
       "      <td>4</td>\n",
       "      <td>Neutral</td>\n",
       "      <td>0</td>\n",
       "      <td>NEGATIVE</td>\n",
       "    </tr>\n",
       "    <tr>\n",
       "      <th>3667</th>\n",
       "      <td>बहुएँ अब भयवश सास की गुलामी नहीं करतीं</td>\n",
       "      <td>4</td>\n",
       "      <td>Neutral</td>\n",
       "      <td>0</td>\n",
       "      <td>NEGATIVE</td>\n",
       "    </tr>\n",
       "    <tr>\n",
       "      <th>7121</th>\n",
       "      <td>महानुभावो, तुम लोग सो नहीं रहे थे, तुम काले पत...</td>\n",
       "      <td>2</td>\n",
       "      <td>Sad</td>\n",
       "      <td>-1</td>\n",
       "      <td>NEGATIVE</td>\n",
       "    </tr>\n",
       "    <tr>\n",
       "      <th>9859</th>\n",
       "      <td>बिन्नी कहता</td>\n",
       "      <td>4</td>\n",
       "      <td>Neutral</td>\n",
       "      <td>0</td>\n",
       "      <td>POSITIVE</td>\n",
       "    </tr>\n",
       "    <tr>\n",
       "      <th>18462</th>\n",
       "      <td>राजगुरु , महाराज कृष्णदेव राय को कहते है के ते...</td>\n",
       "      <td>0</td>\n",
       "      <td>Anger</td>\n",
       "      <td>-1</td>\n",
       "      <td>NEGATIVE</td>\n",
       "    </tr>\n",
       "    <tr>\n",
       "      <th>10388</th>\n",
       "      <td>वहाँ जा कर लोगों से बातचीत की तो मालूम हुआ कि ...</td>\n",
       "      <td>4</td>\n",
       "      <td>Neutral</td>\n",
       "      <td>0</td>\n",
       "      <td>POSITIVE</td>\n",
       "    </tr>\n",
       "    <tr>\n",
       "      <th>6562</th>\n",
       "      <td>उन तीनों के जाने के उपरांत उस रात वह वहीं तड़प...</td>\n",
       "      <td>4</td>\n",
       "      <td>Neutral</td>\n",
       "      <td>0</td>\n",
       "      <td>NEGATIVE</td>\n",
       "    </tr>\n",
       "  </tbody>\n",
       "</table>\n",
       "</div>"
      ],
      "text/plain": [
       "                                               Sentences  Annotation    annot   \n",
       "19069                                         हाय ज्ञानू           2      Sad  \\\n",
       "11379   उसमें से एक बाँसुरी निकाल कर अमीना ने साफी को दी           4  Neutral   \n",
       "4811   नाश्ते में आलू गोभी के परांठे और ठंडी लस्सी का...           1      Joy   \n",
       "8847   जादूगर बोला, अगर मैं इसे हाथ लगा पाता तो खुद ह...           0    Anger   \n",
       "17072            हवा के सहारे उड़कर यह ऊंचाई तक पहुंच गईं           4  Neutral   \n",
       "2629          अगर वह साध्य हो जाए, तो आदर्श ही क्यों रहे           4  Neutral   \n",
       "20278  कैसे उसने पहली बार मुझे पेड़ के तने से सटा कर च...           1      Joy   \n",
       "10874  वह परदा ही तो घर-भर की औरतों के शरीर का वस्त्र था           2      Sad   \n",
       "19490                   मगर मुझे पान लेने की कहाँ सुध थी           4  Neutral   \n",
       "4071    उसे देखते ही बोलीं,'तुम्हारा लड़का बड़ा उजड्ड है           0    Anger   \n",
       "8977   खैर, इन बातों पर अधिक ध्यान देना उस ने जरूरी न...           4  Neutral   \n",
       "18508  एक दिन भोजन पर महाराज का रसोइया शेख व्यापारी क...           4  Neutral   \n",
       "6364   आखिर सुनहरे तोते के साथ राजकुमारी का ब्याह हो गया           4  Neutral   \n",
       "8888                           वहाँ जा कर उस ने आवाज दी,           4  Neutral   \n",
       "8022                         लखनऊ में ऐसे सुअवसर कहाँ थे           4  Neutral   \n",
       "19633   कोई अपने दोस्त के मुँह में कुल्हड़ लगाये देता था           1      Joy   \n",
       "7129   यह सुन कर बहमन और परवेज तो धन्य-धन्य कर ही उठे...           1      Joy   \n",
       "9972   भैय्या का ब्लडप्रेशर कोई नया तो नहीं'' बिन्नी ...           4  Neutral   \n",
       "14127  पूछने पर शेरू ने बताया कि शहर में तो मुझे बाँध...           2      Sad   \n",
       "18122  उन्होंने सबसे पहले श्री गुरु तेगबहादुर जी का श...           0    Anger   \n",
       "16812  टुन्ना की मां सूखी पत्तियों व सब्जी व फलों के ...           4  Neutral   \n",
       "18854  उसे हृदय से लगा कर बोले —प्रिय, ऐसी बातों से म...           4  Neutral   \n",
       "3325   फिर वही मूर्ति खिड़की से झाँक रही थी मूर्ति नह...           4  Neutral   \n",
       "13082  उसे अपनी आँखों और उस जिन पर विशवास ही नहीं हो ...           4  Neutral   \n",
       "3667              बहुएँ अब भयवश सास की गुलामी नहीं करतीं           4  Neutral   \n",
       "7121   महानुभावो, तुम लोग सो नहीं रहे थे, तुम काले पत...           2      Sad   \n",
       "9859                                         बिन्नी कहता           4  Neutral   \n",
       "18462  राजगुरु , महाराज कृष्णदेव राय को कहते है के ते...           0    Anger   \n",
       "10388  वहाँ जा कर लोगों से बातचीत की तो मालूम हुआ कि ...           4  Neutral   \n",
       "6562   उन तीनों के जाने के उपरांत उस रात वह वहीं तड़प...           4  Neutral   \n",
       "\n",
       "       label      pred  \n",
       "19069     -1  POSITIVE  \n",
       "11379      0  POSITIVE  \n",
       "4811       1  POSITIVE  \n",
       "8847      -1  NEGATIVE  \n",
       "17072      0  POSITIVE  \n",
       "2629       0   NEUTRAL  \n",
       "20278      1  POSITIVE  \n",
       "10874     -1  NEGATIVE  \n",
       "19490      0  NEGATIVE  \n",
       "4071      -1   NEUTRAL  \n",
       "8977       0  NEGATIVE  \n",
       "18508      0  POSITIVE  \n",
       "6364       0  POSITIVE  \n",
       "8888       0   NEUTRAL  \n",
       "8022       0   NEUTRAL  \n",
       "19633      1  NEGATIVE  \n",
       "7129       1  POSITIVE  \n",
       "9972       0  NEGATIVE  \n",
       "14127     -1  NEGATIVE  \n",
       "18122     -1  NEGATIVE  \n",
       "16812      0  POSITIVE  \n",
       "18854      0  POSITIVE  \n",
       "3325       0  NEGATIVE  \n",
       "13082      0  NEGATIVE  \n",
       "3667       0  NEGATIVE  \n",
       "7121      -1  NEGATIVE  \n",
       "9859       0  POSITIVE  \n",
       "18462     -1  NEGATIVE  \n",
       "10388      0  POSITIVE  \n",
       "6562       0  NEGATIVE  "
      ]
     },
     "execution_count": 30,
     "metadata": {},
     "output_type": "execute_result"
    }
   ],
   "source": [
    "test_df.sample(30)"
   ]
  },
  {
   "cell_type": "code",
   "execution_count": 31,
   "id": "cb892501",
   "metadata": {},
   "outputs": [
    {
     "data": {
      "text/plain": [
       "pred\n",
       "NEGATIVE    47\n",
       "POSITIVE    40\n",
       "NEUTRAL      7\n",
       "Name: count, dtype: int64"
      ]
     },
     "execution_count": 31,
     "metadata": {},
     "output_type": "execute_result"
    }
   ],
   "source": [
    "test_df['pred'].value_counts()"
   ]
  },
  {
   "cell_type": "code",
   "execution_count": 32,
   "id": "e3605469",
   "metadata": {},
   "outputs": [
    {
     "data": {
      "text/html": [
       "<div>\n",
       "<style scoped>\n",
       "    .dataframe tbody tr th:only-of-type {\n",
       "        vertical-align: middle;\n",
       "    }\n",
       "\n",
       "    .dataframe tbody tr th {\n",
       "        vertical-align: top;\n",
       "    }\n",
       "\n",
       "    .dataframe thead th {\n",
       "        text-align: right;\n",
       "    }\n",
       "</style>\n",
       "<table border=\"1\" class=\"dataframe\">\n",
       "  <thead>\n",
       "    <tr style=\"text-align: right;\">\n",
       "      <th></th>\n",
       "      <th>Sentences</th>\n",
       "      <th>Annotation</th>\n",
       "      <th>annot</th>\n",
       "      <th>label</th>\n",
       "      <th>pred</th>\n",
       "    </tr>\n",
       "  </thead>\n",
       "  <tbody>\n",
       "    <tr>\n",
       "      <th>8022</th>\n",
       "      <td>लखनऊ में ऐसे सुअवसर कहाँ थे</td>\n",
       "      <td>4</td>\n",
       "      <td>Neutral</td>\n",
       "      <td>0</td>\n",
       "      <td>NEUTRAL</td>\n",
       "    </tr>\n",
       "    <tr>\n",
       "      <th>17229</th>\n",
       "      <td>एक दिन ऐसा आया, जब जगन के बच्चे का विद्यालय मे...</td>\n",
       "      <td>4</td>\n",
       "      <td>Neutral</td>\n",
       "      <td>0</td>\n",
       "      <td>NEUTRAL</td>\n",
       "    </tr>\n",
       "    <tr>\n",
       "      <th>8888</th>\n",
       "      <td>वहाँ जा कर उस ने आवाज दी,</td>\n",
       "      <td>4</td>\n",
       "      <td>Neutral</td>\n",
       "      <td>0</td>\n",
       "      <td>NEUTRAL</td>\n",
       "    </tr>\n",
       "    <tr>\n",
       "      <th>4071</th>\n",
       "      <td>उसे देखते ही बोलीं,'तुम्हारा लड़का बड़ा उजड्ड है</td>\n",
       "      <td>0</td>\n",
       "      <td>Anger</td>\n",
       "      <td>-1</td>\n",
       "      <td>NEUTRAL</td>\n",
       "    </tr>\n",
       "    <tr>\n",
       "      <th>2629</th>\n",
       "      <td>अगर वह साध्य हो जाए, तो आदर्श ही क्यों रहे</td>\n",
       "      <td>4</td>\n",
       "      <td>Neutral</td>\n",
       "      <td>0</td>\n",
       "      <td>NEUTRAL</td>\n",
       "    </tr>\n",
       "    <tr>\n",
       "      <th>16070</th>\n",
       "      <td>जमनालालजी को याद आया कि इस गली में रहने वाले उ...</td>\n",
       "      <td>4</td>\n",
       "      <td>Neutral</td>\n",
       "      <td>0</td>\n",
       "      <td>NEUTRAL</td>\n",
       "    </tr>\n",
       "    <tr>\n",
       "      <th>11657</th>\n",
       "      <td>मुझे देखकर नकाब डाल लिया और बाप से बिगड़ कर बो...</td>\n",
       "      <td>0</td>\n",
       "      <td>Anger</td>\n",
       "      <td>-1</td>\n",
       "      <td>NEUTRAL</td>\n",
       "    </tr>\n",
       "  </tbody>\n",
       "</table>\n",
       "</div>"
      ],
      "text/plain": [
       "                                               Sentences  Annotation    annot   \n",
       "8022                         लखनऊ में ऐसे सुअवसर कहाँ थे           4  Neutral  \\\n",
       "17229  एक दिन ऐसा आया, जब जगन के बच्चे का विद्यालय मे...           4  Neutral   \n",
       "8888                           वहाँ जा कर उस ने आवाज दी,           4  Neutral   \n",
       "4071    उसे देखते ही बोलीं,'तुम्हारा लड़का बड़ा उजड्ड है           0    Anger   \n",
       "2629          अगर वह साध्य हो जाए, तो आदर्श ही क्यों रहे           4  Neutral   \n",
       "16070  जमनालालजी को याद आया कि इस गली में रहने वाले उ...           4  Neutral   \n",
       "11657  मुझे देखकर नकाब डाल लिया और बाप से बिगड़ कर बो...           0    Anger   \n",
       "\n",
       "       label     pred  \n",
       "8022       0  NEUTRAL  \n",
       "17229      0  NEUTRAL  \n",
       "8888       0  NEUTRAL  \n",
       "4071      -1  NEUTRAL  \n",
       "2629       0  NEUTRAL  \n",
       "16070      0  NEUTRAL  \n",
       "11657     -1  NEUTRAL  "
      ]
     },
     "execution_count": 32,
     "metadata": {},
     "output_type": "execute_result"
    }
   ],
   "source": [
    "test_df[test_df['pred']=='NEUTRAL']"
   ]
  },
  {
   "cell_type": "code",
   "execution_count": 33,
   "id": "062b4aa7",
   "metadata": {},
   "outputs": [],
   "source": [
    "test_df['translated'] = test_df['Sentences'].apply(lambda x: GoogleTranslator(source='auto', target='en').translate(x))"
   ]
  },
  {
   "cell_type": "code",
   "execution_count": 34,
   "id": "af7c93d7",
   "metadata": {},
   "outputs": [
    {
     "data": {
      "text/html": [
       "<div>\n",
       "<style scoped>\n",
       "    .dataframe tbody tr th:only-of-type {\n",
       "        vertical-align: middle;\n",
       "    }\n",
       "\n",
       "    .dataframe tbody tr th {\n",
       "        vertical-align: top;\n",
       "    }\n",
       "\n",
       "    .dataframe thead th {\n",
       "        text-align: right;\n",
       "    }\n",
       "</style>\n",
       "<table border=\"1\" class=\"dataframe\">\n",
       "  <thead>\n",
       "    <tr style=\"text-align: right;\">\n",
       "      <th></th>\n",
       "      <th>translated</th>\n",
       "      <th>pred</th>\n",
       "      <th>annot</th>\n",
       "    </tr>\n",
       "  </thead>\n",
       "  <tbody>\n",
       "    <tr>\n",
       "      <th>4228</th>\n",
       "      <td>The wave of sensuality, debauchery and various...</td>\n",
       "      <td>NEGATIVE</td>\n",
       "      <td>Neutral</td>\n",
       "    </tr>\n",
       "    <tr>\n",
       "      <th>13082</th>\n",
       "      <td>He couldn't believe his eyes and the</td>\n",
       "      <td>NEGATIVE</td>\n",
       "      <td>Neutral</td>\n",
       "    </tr>\n",
       "    <tr>\n",
       "      <th>11379</th>\n",
       "      <td>Taking out a flute from it, Amina gave it to S...</td>\n",
       "      <td>POSITIVE</td>\n",
       "      <td>Neutral</td>\n",
       "    </tr>\n",
       "    <tr>\n",
       "      <th>8022</th>\n",
       "      <td>Where were such opportunities in Lucknow</td>\n",
       "      <td>NEUTRAL</td>\n",
       "      <td>Neutral</td>\n",
       "    </tr>\n",
       "    <tr>\n",
       "      <th>18508</th>\n",
       "      <td>One day the chef's cook prepares rasgulla for ...</td>\n",
       "      <td>POSITIVE</td>\n",
       "      <td>Neutral</td>\n",
       "    </tr>\n",
       "    <tr>\n",
       "      <th>8157</th>\n",
       "      <td>because in no time the door opened and all the...</td>\n",
       "      <td>NEGATIVE</td>\n",
       "      <td>Neutral</td>\n",
       "    </tr>\n",
       "    <tr>\n",
       "      <th>1607</th>\n",
       "      <td>who will cook their food now</td>\n",
       "      <td>POSITIVE</td>\n",
       "      <td>Sad</td>\n",
       "    </tr>\n",
       "    <tr>\n",
       "      <th>13466</th>\n",
       "      <td>The daughter explained to him that you were ev...</td>\n",
       "      <td>NEGATIVE</td>\n",
       "      <td>Sad</td>\n",
       "    </tr>\n",
       "    <tr>\n",
       "      <th>3325</th>\n",
       "      <td>Again the same statue was peeping through the ...</td>\n",
       "      <td>NEGATIVE</td>\n",
       "      <td>Neutral</td>\n",
       "    </tr>\n",
       "    <tr>\n",
       "      <th>24</th>\n",
       "      <td>Mohsin has one, two, three, eight, nine, fifte...</td>\n",
       "      <td>POSITIVE</td>\n",
       "      <td>Joy</td>\n",
       "    </tr>\n",
       "    <tr>\n",
       "      <th>3269</th>\n",
       "      <td>He has told by looking at his horoscope that y...</td>\n",
       "      <td>NEGATIVE</td>\n",
       "      <td>Neutral</td>\n",
       "    </tr>\n",
       "    <tr>\n",
       "      <th>10901</th>\n",
       "      <td>Seeing the compassion in my eyes, he said, 'Yo...</td>\n",
       "      <td>POSITIVE</td>\n",
       "      <td>Sad</td>\n",
       "    </tr>\n",
       "    <tr>\n",
       "      <th>2141</th>\n",
       "      <td>Jairam looked at him with a sense of devotiona...</td>\n",
       "      <td>POSITIVE</td>\n",
       "      <td>Neutral</td>\n",
       "    </tr>\n",
       "    <tr>\n",
       "      <th>10874</th>\n",
       "      <td>That veil was the body-clothing of the women o...</td>\n",
       "      <td>NEGATIVE</td>\n",
       "      <td>Sad</td>\n",
       "    </tr>\n",
       "    <tr>\n",
       "      <th>1930</th>\n",
       "      <td>That gentleman replied in burnt words - We wan...</td>\n",
       "      <td>NEGATIVE</td>\n",
       "      <td>Anger</td>\n",
       "    </tr>\n",
       "    <tr>\n",
       "      <th>19633</th>\n",
       "      <td>someone used to put an ax in his friend's mouth</td>\n",
       "      <td>NEGATIVE</td>\n",
       "      <td>Joy</td>\n",
       "    </tr>\n",
       "    <tr>\n",
       "      <th>4002</th>\n",
       "      <td>not today, right now</td>\n",
       "      <td>NEGATIVE</td>\n",
       "      <td>Anger</td>\n",
       "    </tr>\n",
       "    <tr>\n",
       "      <th>2061</th>\n",
       "      <td>The bearded man said - If you don't drink, I w...</td>\n",
       "      <td>NEGATIVE</td>\n",
       "      <td>Neutral</td>\n",
       "    </tr>\n",
       "    <tr>\n",
       "      <th>3667</th>\n",
       "      <td>Daughter-in-law is no longer the slave of moth...</td>\n",
       "      <td>NEGATIVE</td>\n",
       "      <td>Neutral</td>\n",
       "    </tr>\n",
       "    <tr>\n",
       "      <th>7874</th>\n",
       "      <td>hey rock friend</td>\n",
       "      <td>POSITIVE</td>\n",
       "      <td>Neutral</td>\n",
       "    </tr>\n",
       "    <tr>\n",
       "      <th>19977</th>\n",
       "      <td>babu ji was eating food</td>\n",
       "      <td>POSITIVE</td>\n",
       "      <td>Neutral</td>\n",
       "    </tr>\n",
       "    <tr>\n",
       "      <th>17229</th>\n",
       "      <td>A day came when Jagan's child got admission in...</td>\n",
       "      <td>NEUTRAL</td>\n",
       "      <td>Neutral</td>\n",
       "    </tr>\n",
       "    <tr>\n",
       "      <th>10143</th>\n",
       "      <td>Then she quickly took off the blanket and got ...</td>\n",
       "      <td>NEGATIVE</td>\n",
       "      <td>Neutral</td>\n",
       "    </tr>\n",
       "    <tr>\n",
       "      <th>4817</th>\n",
       "      <td>While sitting near the window enjoying the coo...</td>\n",
       "      <td>NEGATIVE</td>\n",
       "      <td>Joy</td>\n",
       "    </tr>\n",
       "    <tr>\n",
       "      <th>8977</th>\n",
       "      <td>Well, he didn't think it necessary to pay much...</td>\n",
       "      <td>NEGATIVE</td>\n",
       "      <td>Neutral</td>\n",
       "    </tr>\n",
       "    <tr>\n",
       "      <th>8889</th>\n",
       "      <td>Uncle, I have come with a lamp, you extend you...</td>\n",
       "      <td>POSITIVE</td>\n",
       "      <td>Neutral</td>\n",
       "    </tr>\n",
       "    <tr>\n",
       "      <th>18462</th>\n",
       "      <td>Rajguru tells Maharaj Krishnadev Rai that Tena...</td>\n",
       "      <td>NEGATIVE</td>\n",
       "      <td>Anger</td>\n",
       "    </tr>\n",
       "    <tr>\n",
       "      <th>17072</th>\n",
       "      <td>It reached the height by flying with the help ...</td>\n",
       "      <td>POSITIVE</td>\n",
       "      <td>Neutral</td>\n",
       "    </tr>\n",
       "    <tr>\n",
       "      <th>8888</th>\n",
       "      <td>After going there, he called out,</td>\n",
       "      <td>NEUTRAL</td>\n",
       "      <td>Neutral</td>\n",
       "    </tr>\n",
       "    <tr>\n",
       "      <th>18122</th>\n",
       "      <td>He first beheaded Jalaluddin, the executioner ...</td>\n",
       "      <td>NEGATIVE</td>\n",
       "      <td>Anger</td>\n",
       "    </tr>\n",
       "  </tbody>\n",
       "</table>\n",
       "</div>"
      ],
      "text/plain": [
       "                                              translated      pred    annot\n",
       "4228   The wave of sensuality, debauchery and various...  NEGATIVE  Neutral\n",
       "13082               He couldn't believe his eyes and the  NEGATIVE  Neutral\n",
       "11379  Taking out a flute from it, Amina gave it to S...  POSITIVE  Neutral\n",
       "8022            Where were such opportunities in Lucknow   NEUTRAL  Neutral\n",
       "18508  One day the chef's cook prepares rasgulla for ...  POSITIVE  Neutral\n",
       "8157   because in no time the door opened and all the...  NEGATIVE  Neutral\n",
       "1607                        who will cook their food now  POSITIVE      Sad\n",
       "13466  The daughter explained to him that you were ev...  NEGATIVE      Sad\n",
       "3325   Again the same statue was peeping through the ...  NEGATIVE  Neutral\n",
       "24     Mohsin has one, two, three, eight, nine, fifte...  POSITIVE      Joy\n",
       "3269   He has told by looking at his horoscope that y...  NEGATIVE  Neutral\n",
       "10901  Seeing the compassion in my eyes, he said, 'Yo...  POSITIVE      Sad\n",
       "2141   Jairam looked at him with a sense of devotiona...  POSITIVE  Neutral\n",
       "10874  That veil was the body-clothing of the women o...  NEGATIVE      Sad\n",
       "1930   That gentleman replied in burnt words - We wan...  NEGATIVE    Anger\n",
       "19633    someone used to put an ax in his friend's mouth  NEGATIVE      Joy\n",
       "4002                                not today, right now  NEGATIVE    Anger\n",
       "2061   The bearded man said - If you don't drink, I w...  NEGATIVE  Neutral\n",
       "3667   Daughter-in-law is no longer the slave of moth...  NEGATIVE  Neutral\n",
       "7874                                     hey rock friend  POSITIVE  Neutral\n",
       "19977                            babu ji was eating food  POSITIVE  Neutral\n",
       "17229  A day came when Jagan's child got admission in...   NEUTRAL  Neutral\n",
       "10143  Then she quickly took off the blanket and got ...  NEGATIVE  Neutral\n",
       "4817   While sitting near the window enjoying the coo...  NEGATIVE      Joy\n",
       "8977   Well, he didn't think it necessary to pay much...  NEGATIVE  Neutral\n",
       "8889   Uncle, I have come with a lamp, you extend you...  POSITIVE  Neutral\n",
       "18462  Rajguru tells Maharaj Krishnadev Rai that Tena...  NEGATIVE    Anger\n",
       "17072  It reached the height by flying with the help ...  POSITIVE  Neutral\n",
       "8888                   After going there, he called out,   NEUTRAL  Neutral\n",
       "18122  He first beheaded Jalaluddin, the executioner ...  NEGATIVE    Anger"
      ]
     },
     "execution_count": 34,
     "metadata": {},
     "output_type": "execute_result"
    }
   ],
   "source": [
    "test_df[['translated','pred','annot']].head(30)"
   ]
  },
  {
   "cell_type": "code",
   "execution_count": 35,
   "id": "cd5e1675",
   "metadata": {},
   "outputs": [
    {
     "data": {
      "text/plain": [
       "[{'label': 'NEGATIVE', 'score': 0.9965961575508118}]"
      ]
     },
     "execution_count": 35,
     "metadata": {},
     "output_type": "execute_result"
    }
   ],
   "source": [
    "classifier('So remembering his looted wealth, he started crying.')"
   ]
  },
  {
   "cell_type": "code",
   "execution_count": 36,
   "id": "53515cf6",
   "metadata": {},
   "outputs": [],
   "source": [
    "from requests import request"
   ]
  },
  {
   "cell_type": "code",
   "execution_count": 37,
   "id": "8a9d3420",
   "metadata": {},
   "outputs": [],
   "source": [
    "response = request(method=\"POST\", url=f\"http://127.0.0.1:5000/predict?text={'तिलोत्तमा का बाहु-बंधन ढीला पड़ गया'}\")"
   ]
  },
  {
   "cell_type": "code",
   "execution_count": 38,
   "id": "cfcb20a4",
   "metadata": {},
   "outputs": [
    {
     "data": {
      "text/plain": [
       "{'label': 'NEUTRAL', 'score': 0.5883834958076477}"
      ]
     },
     "execution_count": 38,
     "metadata": {},
     "output_type": "execute_result"
    }
   ],
   "source": [
    "response.json()"
   ]
  },
  {
   "cell_type": "code",
   "execution_count": 39,
   "id": "1564d51a",
   "metadata": {},
   "outputs": [
    {
     "data": {
      "text/plain": [
       "4228     NEGATIVE\n",
       "13082    NEGATIVE\n",
       "11379    POSITIVE\n",
       "8022      NEUTRAL\n",
       "18508    POSITIVE\n",
       "           ...   \n",
       "5949     NEGATIVE\n",
       "745      POSITIVE\n",
       "8847     NEGATIVE\n",
       "3356     NEGATIVE\n",
       "1672     POSITIVE\n",
       "Name: pred, Length: 94, dtype: object"
      ]
     },
     "execution_count": 39,
     "metadata": {},
     "output_type": "execute_result"
    }
   ],
   "source": [
    "test_df['pred']"
   ]
  },
  {
   "cell_type": "code",
   "execution_count": 40,
   "id": "2fc6b870",
   "metadata": {},
   "outputs": [],
   "source": [
    "test_df['pred'] = test_df['pred'].map({\"POSITIVE\": 1, \"NEUTRAL\": 0, \"NEGATIVE\": -1})"
   ]
  },
  {
   "cell_type": "code",
   "execution_count": 41,
   "id": "e5e2e15d",
   "metadata": {},
   "outputs": [
    {
     "data": {
      "text/plain": [
       "28"
      ]
     },
     "execution_count": 41,
     "metadata": {},
     "output_type": "execute_result"
    }
   ],
   "source": [
    "sum(test_df['label'] == test_df['pred'])"
   ]
  },
  {
   "cell_type": "code",
   "execution_count": null,
   "id": "e7485219",
   "metadata": {},
   "outputs": [],
   "source": []
  }
 ],
 "metadata": {
  "kernelspec": {
   "display_name": "Python 3 (ipykernel)",
   "language": "python",
   "name": "python3"
  },
  "language_info": {
   "codemirror_mode": {
    "name": "ipython",
    "version": 3
   },
   "file_extension": ".py",
   "mimetype": "text/x-python",
   "name": "python",
   "nbconvert_exporter": "python",
   "pygments_lexer": "ipython3",
   "version": "3.11.3"
  }
 },
 "nbformat": 4,
 "nbformat_minor": 5
}
