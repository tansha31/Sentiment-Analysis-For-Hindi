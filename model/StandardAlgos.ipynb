{
 "cells": [
  {
   "cell_type": "code",
   "execution_count": 1,
   "id": "893b2204",
   "metadata": {},
   "outputs": [],
   "source": [
    "import pandas as pd\n",
    "import numpy as np\n",
    "import matplotlib.pyplot as plt\n",
    "import seaborn as sns\n",
    "import string\n",
    "import nltk\n",
    "import re\n",
    "import warnings"
   ]
  },
  {
   "cell_type": "code",
   "execution_count": 2,
   "id": "b36b58c8",
   "metadata": {},
   "outputs": [
    {
     "data": {
      "text/plain": [
       "<bound method NDFrame.head of                                                Sentences  Annotation\n",
       "0               रमजान के पूरे तीस रोजों के बाद ईद आयी है         1.0\n",
       "1                   कितना मनोहर, कितना सुहावना प्रभाव है         1.0\n",
       "2      वृक्षों पर अजीब हरियाली है, खेतों में कुछ अजीब...         1.0\n",
       "3      आज का सूर्य देखो, कितना प्यारा, कितना शीतल है,...         1.0\n",
       "4                                 गाँव में कितनी हलचल है         1.0\n",
       "...                                                  ...         ...\n",
       "20299                          फिर यहाँ सर्दी हो जाती है         4.0\n",
       "20300  दिन-भर मैं यह देखती रहती हूँ कि धूप का टुकड़ा क...         4.0\n",
       "20301  पार्क का कोई ऐसा कोना नहीं, जहाँ मैं घड़ी-आधा घ...         4.0\n",
       "20302              लेकिन यह बेंच मुझे सबसे अच्छी लगती है         1.0\n",
       "20303  एक तो इस पर पत्ते नहीं झरते और दूसरे... अरे, आ...         4.0\n",
       "\n",
       "[20304 rows x 2 columns]>"
      ]
     },
     "execution_count": 2,
     "metadata": {},
     "output_type": "execute_result"
    }
   ],
   "source": [
    "#reading dataset into dtaframe\n",
    "df = pd.DataFrame(pd.read_excel('Bhaav-Dataset.xlsx'))\n",
    "df.head"
   ]
  },
  {
   "cell_type": "code",
   "execution_count": 3,
   "id": "79cb6e65",
   "metadata": {},
   "outputs": [
    {
     "data": {
      "text/html": [
       "<div>\n",
       "<style scoped>\n",
       "    .dataframe tbody tr th:only-of-type {\n",
       "        vertical-align: middle;\n",
       "    }\n",
       "\n",
       "    .dataframe tbody tr th {\n",
       "        vertical-align: top;\n",
       "    }\n",
       "\n",
       "    .dataframe thead th {\n",
       "        text-align: right;\n",
       "    }\n",
       "</style>\n",
       "<table border=\"1\" class=\"dataframe\">\n",
       "  <thead>\n",
       "    <tr style=\"text-align: right;\">\n",
       "      <th></th>\n",
       "      <th>Sentences</th>\n",
       "      <th>Annotation</th>\n",
       "    </tr>\n",
       "  </thead>\n",
       "  <tbody>\n",
       "    <tr>\n",
       "      <th>0</th>\n",
       "      <td>रमजान के पूरे तीस रोजों के बाद ईद आयी है</td>\n",
       "      <td>1.0</td>\n",
       "    </tr>\n",
       "    <tr>\n",
       "      <th>1</th>\n",
       "      <td>कितना मनोहर, कितना सुहावना प्रभाव है</td>\n",
       "      <td>1.0</td>\n",
       "    </tr>\n",
       "    <tr>\n",
       "      <th>2</th>\n",
       "      <td>वृक्षों पर अजीब हरियाली है, खेतों में कुछ अजीब...</td>\n",
       "      <td>1.0</td>\n",
       "    </tr>\n",
       "    <tr>\n",
       "      <th>3</th>\n",
       "      <td>आज का सूर्य देखो, कितना प्यारा, कितना शीतल है,...</td>\n",
       "      <td>1.0</td>\n",
       "    </tr>\n",
       "    <tr>\n",
       "      <th>4</th>\n",
       "      <td>गाँव में कितनी हलचल है</td>\n",
       "      <td>1.0</td>\n",
       "    </tr>\n",
       "    <tr>\n",
       "      <th>...</th>\n",
       "      <td>...</td>\n",
       "      <td>...</td>\n",
       "    </tr>\n",
       "    <tr>\n",
       "      <th>20299</th>\n",
       "      <td>फिर यहाँ सर्दी हो जाती है</td>\n",
       "      <td>4.0</td>\n",
       "    </tr>\n",
       "    <tr>\n",
       "      <th>20300</th>\n",
       "      <td>दिन-भर मैं यह देखती रहती हूँ कि धूप का टुकड़ा क...</td>\n",
       "      <td>4.0</td>\n",
       "    </tr>\n",
       "    <tr>\n",
       "      <th>20301</th>\n",
       "      <td>पार्क का कोई ऐसा कोना नहीं, जहाँ मैं घड़ी-आधा घ...</td>\n",
       "      <td>4.0</td>\n",
       "    </tr>\n",
       "    <tr>\n",
       "      <th>20302</th>\n",
       "      <td>लेकिन यह बेंच मुझे सबसे अच्छी लगती है</td>\n",
       "      <td>1.0</td>\n",
       "    </tr>\n",
       "    <tr>\n",
       "      <th>20303</th>\n",
       "      <td>एक तो इस पर पत्ते नहीं झरते और दूसरे... अरे, आ...</td>\n",
       "      <td>4.0</td>\n",
       "    </tr>\n",
       "  </tbody>\n",
       "</table>\n",
       "<p>20304 rows × 2 columns</p>\n",
       "</div>"
      ],
      "text/plain": [
       "                                               Sentences  Annotation\n",
       "0               रमजान के पूरे तीस रोजों के बाद ईद आयी है         1.0\n",
       "1                   कितना मनोहर, कितना सुहावना प्रभाव है         1.0\n",
       "2      वृक्षों पर अजीब हरियाली है, खेतों में कुछ अजीब...         1.0\n",
       "3      आज का सूर्य देखो, कितना प्यारा, कितना शीतल है,...         1.0\n",
       "4                                 गाँव में कितनी हलचल है         1.0\n",
       "...                                                  ...         ...\n",
       "20299                          फिर यहाँ सर्दी हो जाती है         4.0\n",
       "20300  दिन-भर मैं यह देखती रहती हूँ कि धूप का टुकड़ा क...         4.0\n",
       "20301  पार्क का कोई ऐसा कोना नहीं, जहाँ मैं घड़ी-आधा घ...         4.0\n",
       "20302              लेकिन यह बेंच मुझे सबसे अच्छी लगती है         1.0\n",
       "20303  एक तो इस पर पत्ते नहीं झरते और दूसरे... अरे, आ...         4.0\n",
       "\n",
       "[20304 rows x 2 columns]"
      ]
     },
     "execution_count": 3,
     "metadata": {},
     "output_type": "execute_result"
    }
   ],
   "source": [
    "df"
   ]
  },
  {
   "cell_type": "code",
   "execution_count": 4,
   "id": "224fbbb8",
   "metadata": {},
   "outputs": [
    {
     "data": {
      "text/plain": [
       "(20304, 2)"
      ]
     },
     "execution_count": 4,
     "metadata": {},
     "output_type": "execute_result"
    }
   ],
   "source": [
    "df.shape"
   ]
  },
  {
   "cell_type": "code",
   "execution_count": 5,
   "id": "1af629e7",
   "metadata": {},
   "outputs": [
    {
     "data": {
      "text/plain": [
       "4.0    11697\n",
       "2.0     3168\n",
       "1.0     2463\n",
       "3.0     1512\n",
       "0.0     1464\n",
       "Name: Annotation, dtype: int64"
      ]
     },
     "execution_count": 5,
     "metadata": {},
     "output_type": "execute_result"
    }
   ],
   "source": [
    "df['Annotation'].value_counts()"
   ]
  },
  {
   "cell_type": "code",
   "execution_count": 6,
   "id": "f6f38d79",
   "metadata": {},
   "outputs": [
    {
     "name": "stdout",
     "output_type": "stream",
     "text": [
      "<class 'pandas.core.frame.DataFrame'>\n",
      "RangeIndex: 20304 entries, 0 to 20303\n",
      "Data columns (total 2 columns):\n",
      " #   Column      Non-Null Count  Dtype  \n",
      "---  ------      --------------  -----  \n",
      " 0   Sentences   20304 non-null  object \n",
      " 1   Annotation  20304 non-null  float64\n",
      "dtypes: float64(1), object(1)\n",
      "memory usage: 317.4+ KB\n"
     ]
    }
   ],
   "source": [
    "df.info()"
   ]
  },
  {
   "cell_type": "markdown",
   "id": "805201f3",
   "metadata": {},
   "source": [
    "# Pre-Processing Stage I"
   ]
  },
  {
   "cell_type": "code",
   "execution_count": 7,
   "id": "a6d5b02f",
   "metadata": {},
   "outputs": [
    {
     "data": {
      "text/html": [
       "<div>\n",
       "<style scoped>\n",
       "    .dataframe tbody tr th:only-of-type {\n",
       "        vertical-align: middle;\n",
       "    }\n",
       "\n",
       "    .dataframe tbody tr th {\n",
       "        vertical-align: top;\n",
       "    }\n",
       "\n",
       "    .dataframe thead th {\n",
       "        text-align: right;\n",
       "    }\n",
       "</style>\n",
       "<table border=\"1\" class=\"dataframe\">\n",
       "  <thead>\n",
       "    <tr style=\"text-align: right;\">\n",
       "      <th></th>\n",
       "      <th>Sentences</th>\n",
       "      <th>Annotation</th>\n",
       "    </tr>\n",
       "  </thead>\n",
       "  <tbody>\n",
       "    <tr>\n",
       "      <th>0</th>\n",
       "      <td>रमजान के पूरे तीस रोजों के बाद ईद आयी है</td>\n",
       "      <td>1.0</td>\n",
       "    </tr>\n",
       "    <tr>\n",
       "      <th>1</th>\n",
       "      <td>कितना मनोहर, कितना सुहावना प्रभाव है</td>\n",
       "      <td>1.0</td>\n",
       "    </tr>\n",
       "    <tr>\n",
       "      <th>2</th>\n",
       "      <td>वृक्षों पर अजीब हरियाली है, खेतों में कुछ अजीब...</td>\n",
       "      <td>1.0</td>\n",
       "    </tr>\n",
       "    <tr>\n",
       "      <th>3</th>\n",
       "      <td>आज का सूर्य देखो, कितना प्यारा, कितना शीतल है,...</td>\n",
       "      <td>1.0</td>\n",
       "    </tr>\n",
       "    <tr>\n",
       "      <th>4</th>\n",
       "      <td>गाँव में कितनी हलचल है</td>\n",
       "      <td>1.0</td>\n",
       "    </tr>\n",
       "  </tbody>\n",
       "</table>\n",
       "</div>"
      ],
      "text/plain": [
       "                                           Sentences  Annotation\n",
       "0           रमजान के पूरे तीस रोजों के बाद ईद आयी है         1.0\n",
       "1               कितना मनोहर, कितना सुहावना प्रभाव है         1.0\n",
       "2  वृक्षों पर अजीब हरियाली है, खेतों में कुछ अजीब...         1.0\n",
       "3  आज का सूर्य देखो, कितना प्यारा, कितना शीतल है,...         1.0\n",
       "4                             गाँव में कितनी हलचल है         1.0"
      ]
     },
     "execution_count": 7,
     "metadata": {},
     "output_type": "execute_result"
    }
   ],
   "source": [
    "#remove patterns in the input text\n",
    "\n",
    "def remove_pattern(input_txt,pattern):\n",
    "    if pd.isnull(input_txt)==True:\n",
    "        return input_txt\n",
    "    r=re.findall(pattern, input_txt)\n",
    "    #print(r)\n",
    "    for word in r:\n",
    "        input_txt=re.sub(word,\"\",input_txt)\n",
    "    #print(input_txt)\n",
    "    return input_txt\n",
    "\n",
    "df['Sentences']=np.vectorize(remove_pattern)(df['Sentences'],\"@[\\w]*|@[][\\w]*\")\n",
    "df.head()"
   ]
  },
  {
   "cell_type": "code",
   "execution_count": 8,
   "id": "9d22fe4a",
   "metadata": {},
   "outputs": [
    {
     "data": {
      "text/html": [
       "<div>\n",
       "<style scoped>\n",
       "    .dataframe tbody tr th:only-of-type {\n",
       "        vertical-align: middle;\n",
       "    }\n",
       "\n",
       "    .dataframe tbody tr th {\n",
       "        vertical-align: top;\n",
       "    }\n",
       "\n",
       "    .dataframe thead th {\n",
       "        text-align: right;\n",
       "    }\n",
       "</style>\n",
       "<table border=\"1\" class=\"dataframe\">\n",
       "  <thead>\n",
       "    <tr style=\"text-align: right;\">\n",
       "      <th></th>\n",
       "      <th>Sentences</th>\n",
       "      <th>Annotation</th>\n",
       "      <th>NewSentences</th>\n",
       "    </tr>\n",
       "  </thead>\n",
       "  <tbody>\n",
       "    <tr>\n",
       "      <th>0</th>\n",
       "      <td>रमजान के पूरे तीस रोजों के बाद ईद आयी है</td>\n",
       "      <td>1.0</td>\n",
       "      <td>रमजान के पूरे तीस रोजों के बाद ईद आयी है</td>\n",
       "    </tr>\n",
       "    <tr>\n",
       "      <th>1</th>\n",
       "      <td>कितना मनोहर, कितना सुहावना प्रभाव है</td>\n",
       "      <td>1.0</td>\n",
       "      <td>कितना मनोहर कितना सुहावना प्रभाव है</td>\n",
       "    </tr>\n",
       "    <tr>\n",
       "      <th>2</th>\n",
       "      <td>वृक्षों पर अजीब हरियाली है, खेतों में कुछ अजीब...</td>\n",
       "      <td>1.0</td>\n",
       "      <td>वृक्षों पर अजीब हरियाली है खेतों में कुछ अजीब ...</td>\n",
       "    </tr>\n",
       "    <tr>\n",
       "      <th>3</th>\n",
       "      <td>आज का सूर्य देखो, कितना प्यारा, कितना शीतल है,...</td>\n",
       "      <td>1.0</td>\n",
       "      <td>आज का सूर्य देखो कितना प्यारा कितना शीतल है या...</td>\n",
       "    </tr>\n",
       "    <tr>\n",
       "      <th>4</th>\n",
       "      <td>गाँव में कितनी हलचल है</td>\n",
       "      <td>1.0</td>\n",
       "      <td>गाँव में कितनी हलचल है</td>\n",
       "    </tr>\n",
       "    <tr>\n",
       "      <th>...</th>\n",
       "      <td>...</td>\n",
       "      <td>...</td>\n",
       "      <td>...</td>\n",
       "    </tr>\n",
       "    <tr>\n",
       "      <th>20299</th>\n",
       "      <td>फिर यहाँ सर्दी हो जाती है</td>\n",
       "      <td>4.0</td>\n",
       "      <td>फिर यहाँ सर्दी हो जाती है</td>\n",
       "    </tr>\n",
       "    <tr>\n",
       "      <th>20300</th>\n",
       "      <td>दिन-भर मैं यह देखती रहती हूँ कि धूप का टुकड़ा क...</td>\n",
       "      <td>4.0</td>\n",
       "      <td>दिनभर मैं यह देखती रहती हूँ कि धूप का टुकड़ा कि...</td>\n",
       "    </tr>\n",
       "    <tr>\n",
       "      <th>20301</th>\n",
       "      <td>पार्क का कोई ऐसा कोना नहीं, जहाँ मैं घड़ी-आधा घ...</td>\n",
       "      <td>4.0</td>\n",
       "      <td>पार्क का कोई ऐसा कोना नहीं जहाँ मैं घड़ीआधा घड़ी...</td>\n",
       "    </tr>\n",
       "    <tr>\n",
       "      <th>20302</th>\n",
       "      <td>लेकिन यह बेंच मुझे सबसे अच्छी लगती है</td>\n",
       "      <td>1.0</td>\n",
       "      <td>लेकिन यह बेंच मुझे सबसे अच्छी लगती है</td>\n",
       "    </tr>\n",
       "    <tr>\n",
       "      <th>20303</th>\n",
       "      <td>एक तो इस पर पत्ते नहीं झरते और दूसरे... अरे, आ...</td>\n",
       "      <td>4.0</td>\n",
       "      <td>एक तो इस पर पत्ते नहीं झरते और दूसरे अरे आप जा...</td>\n",
       "    </tr>\n",
       "  </tbody>\n",
       "</table>\n",
       "<p>20304 rows × 3 columns</p>\n",
       "</div>"
      ],
      "text/plain": [
       "                                               Sentences  Annotation  \\\n",
       "0               रमजान के पूरे तीस रोजों के बाद ईद आयी है         1.0   \n",
       "1                   कितना मनोहर, कितना सुहावना प्रभाव है         1.0   \n",
       "2      वृक्षों पर अजीब हरियाली है, खेतों में कुछ अजीब...         1.0   \n",
       "3      आज का सूर्य देखो, कितना प्यारा, कितना शीतल है,...         1.0   \n",
       "4                                 गाँव में कितनी हलचल है         1.0   \n",
       "...                                                  ...         ...   \n",
       "20299                          फिर यहाँ सर्दी हो जाती है         4.0   \n",
       "20300  दिन-भर मैं यह देखती रहती हूँ कि धूप का टुकड़ा क...         4.0   \n",
       "20301  पार्क का कोई ऐसा कोना नहीं, जहाँ मैं घड़ी-आधा घ...         4.0   \n",
       "20302              लेकिन यह बेंच मुझे सबसे अच्छी लगती है         1.0   \n",
       "20303  एक तो इस पर पत्ते नहीं झरते और दूसरे... अरे, आ...         4.0   \n",
       "\n",
       "                                            NewSentences  \n",
       "0               रमजान के पूरे तीस रोजों के बाद ईद आयी है  \n",
       "1                    कितना मनोहर कितना सुहावना प्रभाव है  \n",
       "2      वृक्षों पर अजीब हरियाली है खेतों में कुछ अजीब ...  \n",
       "3      आज का सूर्य देखो कितना प्यारा कितना शीतल है या...  \n",
       "4                                 गाँव में कितनी हलचल है  \n",
       "...                                                  ...  \n",
       "20299                          फिर यहाँ सर्दी हो जाती है  \n",
       "20300  दिनभर मैं यह देखती रहती हूँ कि धूप का टुकड़ा कि...  \n",
       "20301  पार्क का कोई ऐसा कोना नहीं जहाँ मैं घड़ीआधा घड़ी...  \n",
       "20302              लेकिन यह बेंच मुझे सबसे अच्छी लगती है  \n",
       "20303  एक तो इस पर पत्ते नहीं झरते और दूसरे अरे आप जा...  \n",
       "\n",
       "[20304 rows x 3 columns]"
      ]
     },
     "execution_count": 8,
     "metadata": {},
     "output_type": "execute_result"
    }
   ],
   "source": [
    "# Define a function to remove punctuation\n",
    "def remove_punctuation(text):\n",
    "    return re.sub(r'[!?,.\\-:;।‘’“”\\']', '', text)\n",
    "\n",
    "# Apply the function to the 'text' column\n",
    "df['NewSentences'] = df['Sentences'].apply(lambda x: remove_punctuation(x))\n",
    "df"
   ]
  },
  {
   "cell_type": "code",
   "execution_count": 9,
   "id": "ce23c8f5",
   "metadata": {},
   "outputs": [
    {
     "data": {
      "text/html": [
       "<div>\n",
       "<style scoped>\n",
       "    .dataframe tbody tr th:only-of-type {\n",
       "        vertical-align: middle;\n",
       "    }\n",
       "\n",
       "    .dataframe tbody tr th {\n",
       "        vertical-align: top;\n",
       "    }\n",
       "\n",
       "    .dataframe thead th {\n",
       "        text-align: right;\n",
       "    }\n",
       "</style>\n",
       "<table border=\"1\" class=\"dataframe\">\n",
       "  <thead>\n",
       "    <tr style=\"text-align: right;\">\n",
       "      <th></th>\n",
       "      <th>Sentences</th>\n",
       "      <th>Annotation</th>\n",
       "      <th>NewSentences</th>\n",
       "    </tr>\n",
       "  </thead>\n",
       "  <tbody>\n",
       "    <tr>\n",
       "      <th>0</th>\n",
       "      <td>रमजान के पूरे तीस रोजों के बाद ईद आयी है</td>\n",
       "      <td>1.0</td>\n",
       "      <td>रमजान के पूरे तीस रोजों के बाद ईद आयी है</td>\n",
       "    </tr>\n",
       "    <tr>\n",
       "      <th>1</th>\n",
       "      <td>कितना मनोहर, कितना सुहावना प्रभाव है</td>\n",
       "      <td>1.0</td>\n",
       "      <td>कितना मनोहर कितना सुहावना प्रभाव है</td>\n",
       "    </tr>\n",
       "    <tr>\n",
       "      <th>2</th>\n",
       "      <td>वृक्षों पर अजीब हरियाली है, खेतों में कुछ अजीब...</td>\n",
       "      <td>1.0</td>\n",
       "      <td>वृक्षों पर अजीब हरियाली है खेतों में कुछ अजीब ...</td>\n",
       "    </tr>\n",
       "    <tr>\n",
       "      <th>3</th>\n",
       "      <td>आज का सूर्य देखो, कितना प्यारा, कितना शीतल है,...</td>\n",
       "      <td>1.0</td>\n",
       "      <td>आज का सूर्य देखो कितना प्यारा कितना शीतल है या...</td>\n",
       "    </tr>\n",
       "    <tr>\n",
       "      <th>4</th>\n",
       "      <td>गाँव में कितनी हलचल है</td>\n",
       "      <td>1.0</td>\n",
       "      <td>गाँव में कितनी हलचल है</td>\n",
       "    </tr>\n",
       "    <tr>\n",
       "      <th>...</th>\n",
       "      <td>...</td>\n",
       "      <td>...</td>\n",
       "      <td>...</td>\n",
       "    </tr>\n",
       "    <tr>\n",
       "      <th>20299</th>\n",
       "      <td>फिर यहाँ सर्दी हो जाती है</td>\n",
       "      <td>4.0</td>\n",
       "      <td>फिर यहाँ सर्दी हो जाती है</td>\n",
       "    </tr>\n",
       "    <tr>\n",
       "      <th>20300</th>\n",
       "      <td>दिन-भर मैं यह देखती रहती हूँ कि धूप का टुकड़ा क...</td>\n",
       "      <td>4.0</td>\n",
       "      <td>दिनभर मैं यह देखती रहती हूँ कि धूप का टुकड़ा कि...</td>\n",
       "    </tr>\n",
       "    <tr>\n",
       "      <th>20301</th>\n",
       "      <td>पार्क का कोई ऐसा कोना नहीं, जहाँ मैं घड़ी-आधा घ...</td>\n",
       "      <td>4.0</td>\n",
       "      <td>पार्क का कोई ऐसा कोना नहीं जहाँ मैं घड़ीआधा घड़ी...</td>\n",
       "    </tr>\n",
       "    <tr>\n",
       "      <th>20302</th>\n",
       "      <td>लेकिन यह बेंच मुझे सबसे अच्छी लगती है</td>\n",
       "      <td>1.0</td>\n",
       "      <td>लेकिन यह बेंच मुझे सबसे अच्छी लगती है</td>\n",
       "    </tr>\n",
       "    <tr>\n",
       "      <th>20303</th>\n",
       "      <td>एक तो इस पर पत्ते नहीं झरते और दूसरे... अरे, आ...</td>\n",
       "      <td>4.0</td>\n",
       "      <td>एक तो इस पर पत्ते नहीं झरते और दूसरे अरे आप जा...</td>\n",
       "    </tr>\n",
       "  </tbody>\n",
       "</table>\n",
       "<p>20304 rows × 3 columns</p>\n",
       "</div>"
      ],
      "text/plain": [
       "                                               Sentences  Annotation  \\\n",
       "0               रमजान के पूरे तीस रोजों के बाद ईद आयी है         1.0   \n",
       "1                   कितना मनोहर, कितना सुहावना प्रभाव है         1.0   \n",
       "2      वृक्षों पर अजीब हरियाली है, खेतों में कुछ अजीब...         1.0   \n",
       "3      आज का सूर्य देखो, कितना प्यारा, कितना शीतल है,...         1.0   \n",
       "4                                 गाँव में कितनी हलचल है         1.0   \n",
       "...                                                  ...         ...   \n",
       "20299                          फिर यहाँ सर्दी हो जाती है         4.0   \n",
       "20300  दिन-भर मैं यह देखती रहती हूँ कि धूप का टुकड़ा क...         4.0   \n",
       "20301  पार्क का कोई ऐसा कोना नहीं, जहाँ मैं घड़ी-आधा घ...         4.0   \n",
       "20302              लेकिन यह बेंच मुझे सबसे अच्छी लगती है         1.0   \n",
       "20303  एक तो इस पर पत्ते नहीं झरते और दूसरे... अरे, आ...         4.0   \n",
       "\n",
       "                                            NewSentences  \n",
       "0               रमजान के पूरे तीस रोजों के बाद ईद आयी है  \n",
       "1                    कितना मनोहर कितना सुहावना प्रभाव है  \n",
       "2      वृक्षों पर अजीब हरियाली है खेतों में कुछ अजीब ...  \n",
       "3      आज का सूर्य देखो कितना प्यारा कितना शीतल है या...  \n",
       "4                                 गाँव में कितनी हलचल है  \n",
       "...                                                  ...  \n",
       "20299                          फिर यहाँ सर्दी हो जाती है  \n",
       "20300  दिनभर मैं यह देखती रहती हूँ कि धूप का टुकड़ा कि...  \n",
       "20301  पार्क का कोई ऐसा कोना नहीं जहाँ मैं घड़ीआधा घड़ी...  \n",
       "20302              लेकिन यह बेंच मुझे सबसे अच्छी लगती है  \n",
       "20303  एक तो इस पर पत्ते नहीं झरते और दूसरे अरे आप जा...  \n",
       "\n",
       "[20304 rows x 3 columns]"
      ]
     },
     "execution_count": 9,
     "metadata": {},
     "output_type": "execute_result"
    }
   ],
   "source": [
    "# Define a function to remove numbers\n",
    "def clean_text(text):\n",
    "    # Remove numbers\n",
    "    text = re.sub(r'\\d+', '', text)\n",
    "    # Remove extra whitespaces\n",
    "    text = re.sub(r'\\s+', ' ', text).strip()\n",
    "    return text\n",
    "\n",
    "# Apply the function to the 'text' column\n",
    "df['NewSentences'] = df['NewSentences'].apply(lambda x: clean_text(x))\n",
    "df"
   ]
  },
  {
   "cell_type": "code",
   "execution_count": 10,
   "id": "d3b37ebd",
   "metadata": {},
   "outputs": [
    {
     "data": {
      "text/html": [
       "<div>\n",
       "<style scoped>\n",
       "    .dataframe tbody tr th:only-of-type {\n",
       "        vertical-align: middle;\n",
       "    }\n",
       "\n",
       "    .dataframe tbody tr th {\n",
       "        vertical-align: top;\n",
       "    }\n",
       "\n",
       "    .dataframe thead th {\n",
       "        text-align: right;\n",
       "    }\n",
       "</style>\n",
       "<table border=\"1\" class=\"dataframe\">\n",
       "  <thead>\n",
       "    <tr style=\"text-align: right;\">\n",
       "      <th></th>\n",
       "      <th>Sentences</th>\n",
       "      <th>Annotation</th>\n",
       "      <th>NewSentences</th>\n",
       "    </tr>\n",
       "  </thead>\n",
       "  <tbody>\n",
       "    <tr>\n",
       "      <th>20299</th>\n",
       "      <td>फिर यहाँ सर्दी हो जाती है</td>\n",
       "      <td>4.0</td>\n",
       "      <td>फिर यहाँ सर्दी हो जाती है</td>\n",
       "    </tr>\n",
       "    <tr>\n",
       "      <th>20300</th>\n",
       "      <td>दिन-भर मैं यह देखती रहती हूँ कि धूप का टुकड़ा क...</td>\n",
       "      <td>4.0</td>\n",
       "      <td>दिनभर मैं यह देखती रहती हूँ कि धूप का टुकड़ा कि...</td>\n",
       "    </tr>\n",
       "    <tr>\n",
       "      <th>20301</th>\n",
       "      <td>पार्क का कोई ऐसा कोना नहीं, जहाँ मैं घड़ी-आधा घ...</td>\n",
       "      <td>4.0</td>\n",
       "      <td>पार्क का कोई ऐसा कोना नहीं जहाँ मैं घड़ीआधा घड़ी...</td>\n",
       "    </tr>\n",
       "    <tr>\n",
       "      <th>20302</th>\n",
       "      <td>लेकिन यह बेंच मुझे सबसे अच्छी लगती है</td>\n",
       "      <td>1.0</td>\n",
       "      <td>लेकिन यह बेंच मुझे सबसे अच्छी लगती है</td>\n",
       "    </tr>\n",
       "    <tr>\n",
       "      <th>20303</th>\n",
       "      <td>एक तो इस पर पत्ते नहीं झरते और दूसरे... अरे, आ...</td>\n",
       "      <td>4.0</td>\n",
       "      <td>एक तो इस पर पत्ते नहीं झरते और दूसरे अरे आप जा...</td>\n",
       "    </tr>\n",
       "  </tbody>\n",
       "</table>\n",
       "</div>"
      ],
      "text/plain": [
       "                                               Sentences  Annotation  \\\n",
       "20299                          फिर यहाँ सर्दी हो जाती है         4.0   \n",
       "20300  दिन-भर मैं यह देखती रहती हूँ कि धूप का टुकड़ा क...         4.0   \n",
       "20301  पार्क का कोई ऐसा कोना नहीं, जहाँ मैं घड़ी-आधा घ...         4.0   \n",
       "20302              लेकिन यह बेंच मुझे सबसे अच्छी लगती है         1.0   \n",
       "20303  एक तो इस पर पत्ते नहीं झरते और दूसरे... अरे, आ...         4.0   \n",
       "\n",
       "                                            NewSentences  \n",
       "20299                          फिर यहाँ सर्दी हो जाती है  \n",
       "20300  दिनभर मैं यह देखती रहती हूँ कि धूप का टुकड़ा कि...  \n",
       "20301  पार्क का कोई ऐसा कोना नहीं जहाँ मैं घड़ीआधा घड़ी...  \n",
       "20302              लेकिन यह बेंच मुझे सबसे अच्छी लगती है  \n",
       "20303  एक तो इस पर पत्ते नहीं झरते और दूसरे अरे आप जा...  "
      ]
     },
     "execution_count": 10,
     "metadata": {},
     "output_type": "execute_result"
    }
   ],
   "source": [
    "# remove whitespace from text\n",
    "def remove_whitespace(text):\n",
    "    if pd.isnull(text)==False:\n",
    "        return  \" \".join(text.split())\n",
    "    else:\n",
    "        return text\n",
    "df['NewSentences']=np.vectorize(remove_whitespace)(df['NewSentences'])\n",
    "df.tail() "
   ]
  },
  {
   "cell_type": "code",
   "execution_count": 11,
   "id": "86791396",
   "metadata": {},
   "outputs": [
    {
     "data": {
      "text/plain": [
       "0        [रमजान, के, पूरे, तीस, रोजों, के, बाद, ईद, आयी...\n",
       "1               [कितना, मनोहर, कितना, सुहावना, प्रभाव, है]\n",
       "2        [वृक्षों, पर, अजीब, हरियाली, है, खेतों, में, क...\n",
       "3        [आज, का, सूर्य, देखो, कितना, प्यारा, कितना, शी...\n",
       "4                             [गाँव, में, कितनी, हलचल, है]\n",
       "                               ...                        \n",
       "20299                     [फिर, यहाँ, सर्दी, हो, जाती, है]\n",
       "20300    [दिनभर, मैं, यह, देखती, रहती, हूँ, कि, धूप, का...\n",
       "20301    [पार्क, का, कोई, ऐसा, कोना, नहीं, जहाँ, मैं, घ...\n",
       "20302       [लेकिन, यह, बेंच, मुझे, सबसे, अच्छी, लगती, है]\n",
       "20303    [एक, तो, इस, पर, पत्ते, नहीं, झरते, और, दूसरे,...\n",
       "Name: NewSentences, Length: 20304, dtype: object"
      ]
     },
     "execution_count": 11,
     "metadata": {},
     "output_type": "execute_result"
    }
   ],
   "source": [
    "#tokenization of tweets\n",
    "tokenized_tweets= df['NewSentences'].apply( lambda x: x.split())\n",
    "tokenized_tweets.head()\n",
    "tokenized_tweets\n",
    "#print(type(df['NewContent']))\n",
    "#df['NewContent']=tokenized_tweets"
   ]
  },
  {
   "cell_type": "code",
   "execution_count": 12,
   "id": "a94f91ef",
   "metadata": {},
   "outputs": [],
   "source": [
    "#!pip install stop-words\n",
    "from stop_words import get_stop_words\n",
    "stopwords_hindi = get_stop_words('hi')"
   ]
  },
  {
   "cell_type": "code",
   "execution_count": 13,
   "id": "51bc8293",
   "metadata": {},
   "outputs": [
    {
     "name": "stdout",
     "output_type": "stream",
     "text": [
      "169\n"
     ]
    }
   ],
   "source": [
    "print(len(stopwords_hindi))"
   ]
  },
  {
   "cell_type": "code",
   "execution_count": 14,
   "id": "c98c0f26",
   "metadata": {},
   "outputs": [
    {
     "data": {
      "text/plain": [
       "['अत',\n",
       " 'अपना',\n",
       " 'अपनी',\n",
       " 'अपने',\n",
       " 'अभी',\n",
       " 'अंदर',\n",
       " 'आदि',\n",
       " 'आप',\n",
       " 'इत्यादि',\n",
       " 'इन',\n",
       " 'इनका',\n",
       " 'इन्हीं',\n",
       " 'इन्हें',\n",
       " 'इन्हों',\n",
       " 'इस',\n",
       " 'इसका',\n",
       " 'इसकी',\n",
       " 'इसके',\n",
       " 'इसमें',\n",
       " 'इसी',\n",
       " 'इसे',\n",
       " 'उन',\n",
       " 'उनका',\n",
       " 'उनकी',\n",
       " 'उनके',\n",
       " 'उनको',\n",
       " 'उन्हीं',\n",
       " 'उन्हें',\n",
       " 'उन्हों',\n",
       " 'उस',\n",
       " 'उसके',\n",
       " 'उसी',\n",
       " 'उसे',\n",
       " 'एक',\n",
       " 'एवं',\n",
       " 'एस',\n",
       " 'ऐसे',\n",
       " 'और',\n",
       " 'कई',\n",
       " 'कर',\n",
       " 'करता',\n",
       " 'करते',\n",
       " 'करना',\n",
       " 'करने',\n",
       " 'करें',\n",
       " 'कहते',\n",
       " 'कहा',\n",
       " 'का',\n",
       " 'काफ़ी',\n",
       " 'कि',\n",
       " 'कितना',\n",
       " 'किन्हें',\n",
       " 'किन्हों',\n",
       " 'किया',\n",
       " 'किर',\n",
       " 'किस',\n",
       " 'किसी',\n",
       " 'किसे',\n",
       " 'की',\n",
       " 'कुछ',\n",
       " 'कुल',\n",
       " 'के',\n",
       " 'को',\n",
       " 'कोई',\n",
       " 'कौन',\n",
       " 'कौनसा',\n",
       " 'गया',\n",
       " 'घर',\n",
       " 'जब',\n",
       " 'जहाँ',\n",
       " 'जा',\n",
       " 'जितना',\n",
       " 'जिन',\n",
       " 'जिन्हें',\n",
       " 'जिन्हों',\n",
       " 'जिस',\n",
       " 'जिसे',\n",
       " 'जीधर',\n",
       " 'जैसा',\n",
       " 'जैसे',\n",
       " 'जो',\n",
       " 'तक',\n",
       " 'तब',\n",
       " 'तरह',\n",
       " 'तिन',\n",
       " 'तिन्हें',\n",
       " 'तिन्हों',\n",
       " 'तिस',\n",
       " 'तिसे',\n",
       " 'तो',\n",
       " 'था',\n",
       " 'थी',\n",
       " 'थे',\n",
       " 'दबारा',\n",
       " 'दिया',\n",
       " 'दुसरा',\n",
       " 'दूसरे',\n",
       " 'दो',\n",
       " 'द्वारा',\n",
       " 'न',\n",
       " 'नके',\n",
       " 'नहीं',\n",
       " 'ना',\n",
       " 'निहायत',\n",
       " 'नीचे',\n",
       " 'ने',\n",
       " 'पर',\n",
       " 'पहले',\n",
       " 'पूरा',\n",
       " 'पे',\n",
       " 'फिर',\n",
       " 'बनी',\n",
       " 'बही',\n",
       " 'बहुत',\n",
       " 'बाद',\n",
       " 'बाला',\n",
       " 'बिलकुल',\n",
       " 'भी',\n",
       " 'भीतर',\n",
       " 'मगर',\n",
       " 'मानो',\n",
       " 'मे',\n",
       " 'में',\n",
       " 'यदि',\n",
       " 'यह',\n",
       " 'यहाँ',\n",
       " 'यही',\n",
       " 'या',\n",
       " 'यिह',\n",
       " 'ये',\n",
       " 'रखें',\n",
       " 'रहा',\n",
       " 'रहे',\n",
       " 'ऱ्वासा',\n",
       " 'लिए',\n",
       " 'लिये',\n",
       " 'लेकिन',\n",
       " 'व',\n",
       " 'वग़ैरह',\n",
       " 'वर्ग',\n",
       " 'वह',\n",
       " 'वहाँ',\n",
       " 'वहीं',\n",
       " 'वाले',\n",
       " 'वुह',\n",
       " 'वे',\n",
       " 'सकता',\n",
       " 'सकते',\n",
       " 'सबसे',\n",
       " 'सभी',\n",
       " 'साथ',\n",
       " 'साबुत',\n",
       " 'साभ',\n",
       " 'सारा',\n",
       " 'से',\n",
       " 'सो',\n",
       " 'संग',\n",
       " 'ही',\n",
       " 'हुआ',\n",
       " 'हुई',\n",
       " 'हुए',\n",
       " 'है',\n",
       " 'हैं',\n",
       " 'हो',\n",
       " 'होता',\n",
       " 'होती',\n",
       " 'होते',\n",
       " 'होना',\n",
       " 'होने']"
      ]
     },
     "execution_count": 14,
     "metadata": {},
     "output_type": "execute_result"
    }
   ],
   "source": [
    "stopwords_hindi"
   ]
  },
  {
   "cell_type": "code",
   "execution_count": 15,
   "id": "43e6e90d",
   "metadata": {},
   "outputs": [
    {
     "data": {
      "text/plain": [
       "0                       [रमजान, पूरे, तीस, रोजों, ईद, आयी]\n",
       "1                                 [मनोहर, सुहावना, प्रभाव]\n",
       "2        [वृक्षों, अजीब, हरियाली, खेतों, अजीब, रौनक, आस...\n",
       "3        [आज, सूर्य, देखो, प्यारा, शीतल, यानी, संसार, ई...\n",
       "4                                      [गाँव, कितनी, हलचल]\n",
       "                               ...                        \n",
       "20299                                        [सर्दी, जाती]\n",
       "20300    [दिनभर, मैं, देखती, रहती, हूँ, धूप, टुकड़ा, बें...\n",
       "20301          [पार्क, ऐसा, कोना, मैं, घड़ीआधा, घड़ी, बैठती]\n",
       "20302                            [बेंच, मुझे, अच्छी, लगती]\n",
       "20303                                   [पत्ते, झरते, अरे]\n",
       "Name: NewSentences, Length: 20304, dtype: object"
      ]
     },
     "execution_count": 15,
     "metadata": {},
     "output_type": "execute_result"
    }
   ],
   "source": [
    "#function to remove stopwords\n",
    "def remove_stopwords(text):\n",
    "    l=[]\n",
    "    for word in text:\n",
    "        if word not in stopwords_hindi:\n",
    "            l.append(word)\n",
    "    return l\n",
    "\n",
    "tokenized_tweet=tokenized_tweets.apply(remove_stopwords)\n",
    "tokenized_tweet"
   ]
  },
  {
   "cell_type": "code",
   "execution_count": 16,
   "id": "573bf0db",
   "metadata": {},
   "outputs": [],
   "source": [
    "#nltk.download('punkt')\n",
    "#nltk.download('stopwords')\n",
    "from nltk.stem.snowball import SnowballStemmer"
   ]
  },
  {
   "cell_type": "code",
   "execution_count": 17,
   "id": "d7815d95",
   "metadata": {},
   "outputs": [],
   "source": [
    "#perform stemming on the data\n",
    "from snowballstemmer import stemmer\n",
    "\n",
    "# Define Hindi Snowball stemmer object\n",
    "hindi_stemmer = stemmer(\"hindi\")\n",
    "\n",
    "# Define function to apply Hindi Snowball stemmer to text\n",
    "def stem_text(text):\n",
    "    words = text\n",
    "    stemmed_words = []\n",
    "    for word in words:\n",
    "        stemmed_word = hindi_stemmer.stemWord(word)\n",
    "        stemmed_words.append(stemmed_word)\n",
    "    stemmed_text = ' '.join(stemmed_words)\n",
    "    return stemmed_text\n",
    "\n",
    "# Apply Hindi Snowball stemmer to relevant dataframe column\n",
    "stemmed_text = tokenized_tweet.apply(stem_text)\n"
   ]
  },
  {
   "cell_type": "code",
   "execution_count": 18,
   "id": "40e065e1",
   "metadata": {},
   "outputs": [
    {
     "data": {
      "text/plain": [
       "0                                  रमजान पूर तीस रोज ईद आय\n",
       "1                                       मनोहर सुहाव प्रभाव\n",
       "2         वृक्ष अजीब हरियाल खेत अजीब रौनक आसमान अजीब लालिम\n",
       "3                आज सूर्य देख प्यार शीतल यान संसार ईद बध द\n",
       "4                                            गाँव कित हलचल\n",
       "                               ...                        \n",
       "20299                                               सर्द ज\n",
       "20300    दिनभर मैं देख रह हूँ धूप टुकड़ बेंच बेंच बैठ ज हूँ\n",
       "20301                        पार्क ऐस कोन मैं घड़ीआध घड़ बैठ\n",
       "20302                                     बेंच मुझ अच्छ लग\n",
       "20303                                           पत्त झर अर\n",
       "Name: NewSentences, Length: 20304, dtype: object"
      ]
     },
     "execution_count": 18,
     "metadata": {},
     "output_type": "execute_result"
    }
   ],
   "source": [
    "stemmed_text"
   ]
  },
  {
   "cell_type": "code",
   "execution_count": 19,
   "id": "4c4a4ccf",
   "metadata": {},
   "outputs": [
    {
     "data": {
      "text/plain": [
       "<bound method NDFrame.head of                                                Sentences  Annotation  \\\n",
       "0                                रमजान पूर तीस रोज ईद आय         1.0   \n",
       "1                                     मनोहर सुहाव प्रभाव         1.0   \n",
       "2       वृक्ष अजीब हरियाल खेत अजीब रौनक आसमान अजीब लालिम         1.0   \n",
       "3              आज सूर्य देख प्यार शीतल यान संसार ईद बध द         1.0   \n",
       "4                                          गाँव कित हलचल         1.0   \n",
       "...                                                  ...         ...   \n",
       "20299                                             सर्द ज         4.0   \n",
       "20300  दिनभर मैं देख रह हूँ धूप टुकड़ बेंच बेंच बैठ ज हूँ         4.0   \n",
       "20301                      पार्क ऐस कोन मैं घड़ीआध घड़ बैठ         4.0   \n",
       "20302                                   बेंच मुझ अच्छ लग         1.0   \n",
       "20303                                         पत्त झर अर         4.0   \n",
       "\n",
       "                                            NewSentences  \n",
       "0               रमजान के पूरे तीस रोजों के बाद ईद आयी है  \n",
       "1                    कितना मनोहर कितना सुहावना प्रभाव है  \n",
       "2      वृक्षों पर अजीब हरियाली है खेतों में कुछ अजीब ...  \n",
       "3      आज का सूर्य देखो कितना प्यारा कितना शीतल है या...  \n",
       "4                                 गाँव में कितनी हलचल है  \n",
       "...                                                  ...  \n",
       "20299                          फिर यहाँ सर्दी हो जाती है  \n",
       "20300  दिनभर मैं यह देखती रहती हूँ कि धूप का टुकड़ा कि...  \n",
       "20301  पार्क का कोई ऐसा कोना नहीं जहाँ मैं घड़ीआधा घड़ी...  \n",
       "20302              लेकिन यह बेंच मुझे सबसे अच्छी लगती है  \n",
       "20303  एक तो इस पर पत्ते नहीं झरते और दूसरे अरे आप जा...  \n",
       "\n",
       "[20304 rows x 3 columns]>"
      ]
     },
     "execution_count": 19,
     "metadata": {},
     "output_type": "execute_result"
    }
   ],
   "source": [
    "df['Sentences'] = stemmed_text\n",
    "df.head"
   ]
  },
  {
   "cell_type": "markdown",
   "id": "bdda793c",
   "metadata": {},
   "source": [
    "# EDA"
   ]
  },
  {
   "cell_type": "code",
   "execution_count": 20,
   "id": "41e0b3b3",
   "metadata": {},
   "outputs": [],
   "source": [
    "# Import Tfidf vectorizer\n",
    "from sklearn.feature_extraction.text import TfidfVectorizer\n",
    "vectorizer = TfidfVectorizer() \n",
    "vectors = vectorizer.fit_transform(df['Sentences'])"
   ]
  },
  {
   "cell_type": "code",
   "execution_count": 21,
   "id": "ca8e9fc1",
   "metadata": {},
   "outputs": [
    {
     "name": "stdout",
     "output_type": "stream",
     "text": [
      "n_samples: 20304, n_features: 2566\n"
     ]
    }
   ],
   "source": [
    "print(\"n_samples: %d, n_features: %d\" % vectors.shape)"
   ]
  },
  {
   "cell_type": "markdown",
   "id": "5f78e621",
   "metadata": {},
   "source": [
    "# Model Training"
   ]
  },
  {
   "cell_type": "code",
   "execution_count": 22,
   "id": "ed7bf50c",
   "metadata": {},
   "outputs": [],
   "source": [
    "from sklearn.naive_bayes import MultinomialNB\n",
    "from sklearn.pipeline import make_pipeline\n",
    "from sklearn.metrics import confusion_matrix, accuracy_score\n",
    "from sklearn.model_selection import train_test_split, StratifiedKFold, cross_val_score\n",
    "from sklearn.metrics import make_scorer, accuracy_score, f1_score"
   ]
  },
  {
   "cell_type": "code",
   "execution_count": 23,
   "id": "3d534d6d",
   "metadata": {},
   "outputs": [],
   "source": [
    "X=df['Sentences']\n",
    "Y=df['Annotation']\n",
    "X_train, X_test, y_train, y_test=train_test_split(X,Y, test_size=0.2, random_state=0, shuffle=True, stratify=None)"
   ]
  },
  {
   "cell_type": "code",
   "execution_count": 24,
   "id": "9499091f",
   "metadata": {},
   "outputs": [
    {
     "data": {
      "text/plain": [
       "Pipeline(steps=[('tfidfvectorizer', TfidfVectorizer()),\n",
       "                ('multinomialnb', MultinomialNB())])"
      ]
     },
     "execution_count": 24,
     "metadata": {},
     "output_type": "execute_result"
    }
   ],
   "source": [
    "#Naive Bayes\n",
    "model = make_pipeline(TfidfVectorizer(), MultinomialNB())\n",
    "# Train the model using the training data\n",
    "model.fit(X_train, y_train)"
   ]
  },
  {
   "cell_type": "code",
   "execution_count": 25,
   "id": "5e1d34cd",
   "metadata": {},
   "outputs": [],
   "source": [
    "categories=model.predict(X_test)"
   ]
  },
  {
   "cell_type": "code",
   "execution_count": 26,
   "id": "160847fb",
   "metadata": {},
   "outputs": [
    {
     "data": {
      "text/plain": [
       "0.5771977345481408"
      ]
     },
     "execution_count": 26,
     "metadata": {},
     "output_type": "execute_result"
    }
   ],
   "source": [
    "accuracy_score(y_test,categories)"
   ]
  },
  {
   "cell_type": "code",
   "execution_count": 27,
   "id": "fd65a688",
   "metadata": {},
   "outputs": [],
   "source": [
    "X=vectors\n",
    "Y=df['Annotation']\n",
    "X_train, X_test, y_train, y_test=train_test_split(X,Y, test_size=0.2, random_state=0, shuffle=True, stratify=None)"
   ]
  },
  {
   "cell_type": "code",
   "execution_count": 28,
   "id": "05243f1e",
   "metadata": {},
   "outputs": [
    {
     "name": "stdout",
     "output_type": "stream",
     "text": [
      "[LibLinear]"
     ]
    },
    {
     "data": {
      "text/plain": [
       "LogisticRegression(C=5, max_iter=1000, random_state=0, solver='liblinear',\n",
       "                   verbose=1)"
      ]
     },
     "execution_count": 28,
     "metadata": {},
     "output_type": "execute_result"
    }
   ],
   "source": [
    "#Logistic Regression\n",
    "from sklearn.linear_model import LogisticRegression\n",
    "scikit_log_reg = LogisticRegression(verbose=1, solver='liblinear',random_state=0, C=5, penalty='l2',max_iter=1000)\n",
    "scikit_log_reg.fit(X_train,y_train)"
   ]
  },
  {
   "cell_type": "code",
   "execution_count": 29,
   "id": "0360094e",
   "metadata": {},
   "outputs": [
    {
     "data": {
      "text/plain": [
       "0.56981039152918"
      ]
     },
     "execution_count": 29,
     "metadata": {},
     "output_type": "execute_result"
    }
   ],
   "source": [
    "categories=scikit_log_reg.predict(X_test)\n",
    "accuracy_score(y_test,categories)"
   ]
  },
  {
   "cell_type": "code",
   "execution_count": 30,
   "id": "76a4901f",
   "metadata": {},
   "outputs": [],
   "source": [
    "#KNN\n",
    "#for n=7 it gives 87 accuracy, greater than 7, accuracy decreases\n",
    "from sklearn.neighbors import KNeighborsClassifier\n",
    "knn = KNeighborsClassifier(n_neighbors=7)\n",
    "clf = knn.fit(X_train,y_train)"
   ]
  },
  {
   "cell_type": "code",
   "execution_count": 31,
   "id": "15784340",
   "metadata": {},
   "outputs": [
    {
     "data": {
      "text/plain": [
       "0.5072642206353115"
      ]
     },
     "execution_count": 31,
     "metadata": {},
     "output_type": "execute_result"
    }
   ],
   "source": [
    "categories=knn.predict(X_test)\n",
    "accuracy_score(y_test,categories)"
   ]
  },
  {
   "cell_type": "code",
   "execution_count": 32,
   "id": "f6dd3383",
   "metadata": {},
   "outputs": [],
   "source": [
    "#random forest\n",
    "from sklearn.ensemble import RandomForestClassifier\n",
    "from sklearn.model_selection import GridSearchCV"
   ]
  },
  {
   "cell_type": "code",
   "execution_count": 33,
   "id": "2df73b0d",
   "metadata": {},
   "outputs": [
    {
     "data": {
      "text/plain": [
       "GridSearchCV(estimator=RandomForestClassifier(),\n",
       "             param_grid={'max_depth': [2, 10, 20, None],\n",
       "                         'n_estimators': [5, 50, 100]})"
      ]
     },
     "execution_count": 33,
     "metadata": {},
     "output_type": "execute_result"
    }
   ],
   "source": [
    "rf = RandomForestClassifier()\n",
    "parameters = {\n",
    "    'n_estimators': [5,50,100], \n",
    "    'max_depth': [2,10,20,None]\n",
    "}\n",
    "\n",
    "cv = GridSearchCV(rf,parameters)\n",
    "cv.fit(X_train,y_train.values.ravel())"
   ]
  },
  {
   "cell_type": "code",
   "execution_count": 34,
   "id": "e7584dd9",
   "metadata": {},
   "outputs": [
    {
     "data": {
      "text/plain": [
       "RandomForestClassifier()"
      ]
     },
     "execution_count": 34,
     "metadata": {},
     "output_type": "execute_result"
    }
   ],
   "source": [
    "rf_final=RandomForestClassifier()\n",
    "rf_final.fit(X_train,y_train)"
   ]
  },
  {
   "cell_type": "code",
   "execution_count": 35,
   "id": "1d084b9f",
   "metadata": {},
   "outputs": [
    {
     "data": {
      "text/plain": [
       "0.5776902240827383"
      ]
     },
     "execution_count": 35,
     "metadata": {},
     "output_type": "execute_result"
    }
   ],
   "source": [
    "categories=cv.predict(X_test)\n",
    "accuracy_score(y_test,categories)"
   ]
  },
  {
   "cell_type": "code",
   "execution_count": 36,
   "id": "64512822",
   "metadata": {},
   "outputs": [
    {
     "data": {
      "text/plain": [
       "DecisionTreeClassifier(criterion='entropy', max_depth=75)"
      ]
     },
     "execution_count": 36,
     "metadata": {},
     "output_type": "execute_result"
    }
   ],
   "source": [
    "#Decision Tree\n",
    "from sklearn.tree import DecisionTreeClassifier\n",
    "decisiontree = DecisionTreeClassifier(criterion=\"entropy\",max_depth=75)\n",
    "decisiontree.fit(X_train, y_train)"
   ]
  },
  {
   "cell_type": "code",
   "execution_count": 37,
   "id": "a3d69246",
   "metadata": {},
   "outputs": [
    {
     "data": {
      "text/plain": [
       "0.5208076828367397"
      ]
     },
     "execution_count": 37,
     "metadata": {},
     "output_type": "execute_result"
    }
   ],
   "source": [
    "categories=decisiontree.predict(X_test)\n",
    "accuracy_score(y_test,categories)"
   ]
  },
  {
   "cell_type": "code",
   "execution_count": 38,
   "id": "c3bc04cd",
   "metadata": {},
   "outputs": [
    {
     "name": "stdout",
     "output_type": "stream",
     "text": [
      "Learning rate:  0.05\n",
      "Accuracy score (training): 0.576\n",
      "Accuracy score (validation): 0.575\n",
      "Learning rate:  0.075\n",
      "Accuracy score (training): 0.576\n",
      "Accuracy score (validation): 0.575\n",
      "Learning rate:  0.1\n",
      "Accuracy score (training): 0.576\n",
      "Accuracy score (validation): 0.575\n",
      "Learning rate:  0.25\n",
      "Accuracy score (training): 0.578\n",
      "Accuracy score (validation): 0.575\n",
      "Learning rate:  0.5\n",
      "Accuracy score (training): 0.579\n",
      "Accuracy score (validation): 0.575\n",
      "Learning rate:  0.75\n",
      "Accuracy score (training): 0.581\n",
      "Accuracy score (validation): 0.574\n",
      "Learning rate:  1\n",
      "Accuracy score (training): 0.582\n",
      "Accuracy score (validation): 0.574\n"
     ]
    }
   ],
   "source": [
    "#gradient boosting\n",
    "from sklearn.ensemble import GradientBoostingClassifier\n",
    "\n",
    "lr_list = [0.05, 0.075, 0.1, 0.25, 0.5, 0.75, 1]\n",
    "\n",
    "for learning_rate in lr_list:\n",
    "    gb_clf = GradientBoostingClassifier(n_estimators=20, learning_rate=learning_rate, max_features=2, max_depth=2, random_state=0)\n",
    "    gb_clf.fit(X_train, y_train)\n",
    "\n",
    "    print(\"Learning rate: \", learning_rate)\n",
    "    print(\"Accuracy score (training): {0:.3f}\".format(gb_clf.score(X_train, y_train)))\n",
    "    print(\"Accuracy score (validation): {0:.3f}\".format(gb_clf.score(X_test, y_test)))"
   ]
  },
  {
   "cell_type": "code",
   "execution_count": null,
   "id": "4b3c4c4e",
   "metadata": {},
   "outputs": [],
   "source": []
  },
  {
   "cell_type": "code",
   "execution_count": null,
   "id": "afb95808",
   "metadata": {},
   "outputs": [],
   "source": []
  }
 ],
 "metadata": {
  "kernelspec": {
   "display_name": "Python 3 (ipykernel)",
   "language": "python",
   "name": "python3"
  },
  "language_info": {
   "codemirror_mode": {
    "name": "ipython",
    "version": 3
   },
   "file_extension": ".py",
   "mimetype": "text/x-python",
   "name": "python",
   "nbconvert_exporter": "python",
   "pygments_lexer": "ipython3",
   "version": "3.9.7"
  }
 },
 "nbformat": 4,
 "nbformat_minor": 5
}
