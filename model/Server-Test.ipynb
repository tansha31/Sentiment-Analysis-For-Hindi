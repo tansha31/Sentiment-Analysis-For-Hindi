{
 "cells": [
  {
   "cell_type": "code",
   "execution_count": 1,
   "id": "15201c29",
   "metadata": {},
   "outputs": [],
   "source": [
    "from requests import request"
   ]
  },
  {
   "cell_type": "code",
   "execution_count": 26,
   "id": "2f12f6a9",
   "metadata": {},
   "outputs": [],
   "source": [
    "text = 'राजस्थान में मोदी बोले- कांग्रेस ने वोट की राजनीति की:कांग्रेस चाहती थी कर्नाटक के लोगों को गोली लगे, हम बचा रहे थे'"
   ]
  },
  {
   "cell_type": "code",
   "execution_count": 27,
   "id": "7cf1d374",
   "metadata": {},
   "outputs": [],
   "source": [
    "response = request(method=\"POST\", url=f\"http://127.0.0.1:5000/predict?text={text}\")"
   ]
  },
  {
   "cell_type": "code",
   "execution_count": 28,
   "id": "d1b8cb31",
   "metadata": {},
   "outputs": [
    {
     "name": "stdout",
     "output_type": "stream",
     "text": [
      "{'label': 'POSITIVE', 'score': 0.6977850794792175}\n"
     ]
    }
   ],
   "source": [
    "if response.status_code == 200:\n",
    "    print(response.json())"
   ]
  },
  {
   "cell_type": "code",
   "execution_count": null,
   "id": "874de0c3",
   "metadata": {},
   "outputs": [],
   "source": []
  }
 ],
 "metadata": {
  "kernelspec": {
   "display_name": "Python 3 (ipykernel)",
   "language": "python",
   "name": "python3"
  },
  "language_info": {
   "codemirror_mode": {
    "name": "ipython",
    "version": 3
   },
   "file_extension": ".py",
   "mimetype": "text/x-python",
   "name": "python",
   "nbconvert_exporter": "python",
   "pygments_lexer": "ipython3",
   "version": "3.11.3"
  }
 },
 "nbformat": 4,
 "nbformat_minor": 5
}
